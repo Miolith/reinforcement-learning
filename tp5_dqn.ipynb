{
  "cells": [
    {
      "cell_type": "markdown",
      "metadata": {
        "id": "view-in-github",
        "colab_type": "text"
      },
      "source": [
        "<a href=\"https://colab.research.google.com/github/Miolith/reinforcement-learning/blob/master/tp5_dqn.ipynb\" target=\"_parent\"><img src=\"https://colab.research.google.com/assets/colab-badge.svg\" alt=\"Open In Colab\"/></a>"
      ]
    },
    {
      "cell_type": "markdown",
      "id": "51d3490c-319e-4de2-b16f-3765fa2ec696",
      "metadata": {
        "id": "51d3490c-319e-4de2-b16f-3765fa2ec696"
      },
      "source": [
        "# Introduction au DQN avec PyTorch et gym\n",
        "\n",
        "Dans ce TP, vous allez apprendre à créer un réseau de neurones profond d'estimation de la qualité (DQN) pour résoudre des problèmes d'apprentissage par renforcement en utilisant PyTorch et gym.\n",
        "\n",
        "Pour ce faire, vous allez suivre les étapes suivantes:\n",
        "\n",
        "-    Installer PyTorch et gym sur votre ordinateur\n",
        "-    Définir un modèle DQN simple en utilisant PyTorch\n",
        "-    Entraîner le modèle DQN en itérant sur des épisodes de l'environnement\n",
        "-    Expérimenter avec différents environnements, hyperparamètres et architectures pour voir comment ils affectent la performance du DQN\n",
        "\n",
        "Avant de commencer, assurez-vous d'avoir installé Python 3 et les bibliothèques nécessaires sur votre ordinateur. Si vous avez des \n",
        "questions, n'hésitez pas à demander de l'aide à votre enseignant ou à vos camarades. Bon travail!\n",
        "\n",
        "#### Rappels\n",
        "\n",
        "Le DQN apprend à jouer à un jeu en interagissant avec l'environnement et en essayant de maximiser la récompense future. Il fait cela en utilisant un réseau de neurones pour estimer la fonction de valeur, qui est une estimation de la somme des récompenses futures attendues à partir de l'état et de l'action actuels. Le DQN apprend à jouer en prenant des actions qui maximisent la fonction de valeur estimée et en ajustant ses paramètres en fonction de la différence entre la fonction de valeur estimée et la cible de la fonction de valeur.\n",
        "\n",
        "#### Objectifs\n",
        "\n",
        "-    Apprendre les concepts de base de l'apprentissage par renforcement et de l'estimation de la qualité\n",
        "-    Installer et utiliser PyTorch et gym pour créer des modèles DQN\n",
        "-    Comprendre les différents éléments d'un DQN, tels que les fonctions de perte et d'optimisation\n",
        "-    Expérimenter avec différents environnements, hyperparamètres et architectures pour améliorer la performance du DQN\n",
        "\n",
        "En réalisant ce TP, les étudiants devraient être en mesure de créer des modèles DQN simples et d'utiliser les outils PyTorch et gym pour les entraîner et les tester. Ils devraient également comprendre comment différents éléments d'un DQN peuvent affecter son apprentissage et sa performance.\n",
        "\n",
        "#### Ressources\n",
        "\n",
        "Voici une liste de ressources que vous pouvez utiliser en complément du cours pour en savoir plus sur les DQN, PyTorch et l'apprentissage par renforcement:\n",
        "\n",
        "-    Vidéos sur YouTube:\n",
        "        - [Introduction to Deep Q-Networks (DQN) with PyTorch](https://www.youtube.com/watch?v=MtMeio2R0Dk)\n",
        "        - [PyTorch Tutorial for Beginners (Full Course)](https://www.youtube.com/watch?v=VZYc_ZHrruE)\n",
        "        - [Reinforcement Learning Basics with OpenAI Gym](https://www.youtube.com/watch?v=Q-BpqyOT3a8)\n",
        "-    Livres:\n",
        "        - [Deep Learning with PyTorch](https://www.amazon.com/Deep-Learning-PyTorch-Vishnu-Subramanian/dp/1492045527)\n",
        "        - [Reinforcement Learning: An Introduction](https://www.amazon.com/Reinforcement-Learning-Introduction-Richard-Sutton/dp/0262193981)\n",
        "        - [Hands-On Reinforcement Learning with PyTorch](https://www.amazon.com/Hands-Reinforcement-Learning-PyTorch-Approach/dp/1838649322)\n",
        "\n",
        "Ces ressources vous permettront de vous familiariser avec les concepts de base des DQN, de PyTorch et de l'apprentissage par renforcement, et de vous fournir des exemples et des astuces pour utiliser ces outils dans vos propres projets. Vous pouvez également consulter d'autres ressources en ligne, telles que des tutoriels, des forums et des documentations pour en apprendre davantage.\n",
        "\n",
        "#### RAPPEL : 1/4 de la note finale est liée à la mise en forme : \n",
        "\n",
        "- Pensez à nettoyer les outputs inutiles (installation, messages de débuggage, ...)\n",
        "- Soignez vos figures : les axes sont-ils faciles à comprendre ? L'échelle est adaptée ? \n",
        "- Commentez vos résultats : vous attendiez-vous à les avoir ? Est-ce étonnant ? Faites le lien avec la théorie.\n",
        "\n",
        "Ce TP reprend l'exemple d'un médecin et de ses vaccins. Vous allez comparer plusieurs stratégies et trouver celle optimale.\n",
        "Un TP se fait en groupe de 2 à 4. Aucun groupe de plus de 4 personnes. \n",
        "\n",
        "Vous allez rendre le TP dans une archive ZIP. L'archive ZIP contient ce notebook au format `ipynb`, mais aussi exporté en PDF & HTML. \n",
        "L'archive ZIP doit aussi contenir un fichier txt appelé `groupe.txt` sous le format:\n",
        "\n",
        "```\n",
        "Nom1, Prenom1, Email1, NumEtudiant1\n",
        "Nom2, Prenom2, Email2, NumEtudiant2\n",
        "Nom3, Prenom3, Email3, NumEtudiant3\n",
        "Nom4, Prenom4, Email4, NumEtudiant4\n",
        "```\n",
        "\n",
        "Un script vient extraire vos réponses : ne changez pas l'ordre des cellules et soyez sûrs que les graphes sont bien présents dans la version notebook soumise. "
      ]
    },
    {
      "cell_type": "markdown",
      "id": "30541ebd-b84f-4789-b6fd-49ff2cd0bfe6",
      "metadata": {
        "id": "30541ebd-b84f-4789-b6fd-49ff2cd0bfe6"
      },
      "source": [
        "**Q1: Quelle est la différence entre un réseau neuronal profond (DQN) et un réseau neuronal classique ?**"
      ]
    },
    {
      "cell_type": "markdown",
      "id": "559ace1a-aa44-47fc-ab83-51e732c000da",
      "metadata": {
        "id": "559ace1a-aa44-47fc-ab83-51e732c000da"
      },
      "source": [
        "*Un DNN est un réseau neuronal avec de nombreuses couches cachées alors qu'un DQN est un type spécifique de DNN utilisé dans l'apprentissage par renforcement pour prendre des décisions en maximisant une récompense.*"
      ]
    },
    {
      "cell_type": "markdown",
      "id": "86dee66b-f808-40db-bff9-71a814e8f2d5",
      "metadata": {
        "id": "86dee66b-f808-40db-bff9-71a814e8f2d5"
      },
      "source": [
        "**Q2. Dans quel type de problème est utilisé le DQN ?**"
      ]
    },
    {
      "cell_type": "markdown",
      "id": "8faaea54-b02d-4558-9843-8a8fe24dc266",
      "metadata": {
        "id": "8faaea54-b02d-4558-9843-8a8fe24dc266"
      },
      "source": [
        "*les DQN sont utilisés dans des tâches où il est difficile de définir explicitement les règles à suivre pour atteindre un objectif, mais où il est possible de mesurer la qualité des décisions prises par l'agent en mettant en place un système de récompense.*"
      ]
    },
    {
      "cell_type": "markdown",
      "id": "2570acc6-2da7-4881-b754-449694fe165c",
      "metadata": {
        "id": "2570acc6-2da7-4881-b754-449694fe165c"
      },
      "source": [
        "**Q3. Quelle est la différence entre l'espace des actions et des états dans l'environnement [`mountaincar-v0`](https://gym.openai.com/envs/MountainCar-v0/) et `cartpole-v0` ? Comment pouvez-vous visualiser cet environnement ?**"
      ]
    },
    {
      "cell_type": "code",
      "execution_count": null,
      "id": "92e0bf7d-bad2-45e3-a3fc-a2a685399a71",
      "metadata": {
        "colab": {
          "base_uri": "https://localhost:8080/",
          "height": 431
        },
        "id": "92e0bf7d-bad2-45e3-a3fc-a2a685399a71",
        "outputId": "86a5a5bb-149f-415b-d7d2-244947f9b5d5"
      },
      "outputs": [
        {
          "output_type": "stream",
          "name": "stdout",
          "text": [
            "Looking in indexes: https://pypi.org/simple, https://us-python.pkg.dev/colab-wheels/public/simple/\n",
            "Requirement already satisfied: gym in /usr/local/lib/python3.8/dist-packages (0.25.2)\n",
            "Requirement already satisfied: numpy>=1.18.0 in /usr/local/lib/python3.8/dist-packages (from gym) (1.21.6)\n",
            "Requirement already satisfied: cloudpickle>=1.2.0 in /usr/local/lib/python3.8/dist-packages (from gym) (1.5.0)\n",
            "Requirement already satisfied: importlib-metadata>=4.8.0 in /usr/local/lib/python3.8/dist-packages (from gym) (5.2.0)\n",
            "Requirement already satisfied: gym-notices>=0.0.4 in /usr/local/lib/python3.8/dist-packages (from gym) (0.0.8)\n",
            "Requirement already satisfied: zipp>=0.5 in /usr/local/lib/python3.8/dist-packages (from importlib-metadata>=4.8.0->gym) (3.11.0)\n",
            "Looking in indexes: https://pypi.org/simple, https://us-python.pkg.dev/colab-wheels/public/simple/\n",
            "Requirement already satisfied: gym[classic_control] in /usr/local/lib/python3.8/dist-packages (0.25.2)\n",
            "Requirement already satisfied: numpy>=1.18.0 in /usr/local/lib/python3.8/dist-packages (from gym[classic_control]) (1.21.6)\n",
            "Requirement already satisfied: importlib-metadata>=4.8.0 in /usr/local/lib/python3.8/dist-packages (from gym[classic_control]) (5.2.0)\n",
            "Requirement already satisfied: cloudpickle>=1.2.0 in /usr/local/lib/python3.8/dist-packages (from gym[classic_control]) (1.5.0)\n",
            "Requirement already satisfied: gym-notices>=0.0.4 in /usr/local/lib/python3.8/dist-packages (from gym[classic_control]) (0.0.8)\n",
            "Requirement already satisfied: pygame==2.1.0 in /usr/local/lib/python3.8/dist-packages (from gym[classic_control]) (2.1.0)\n",
            "Requirement already satisfied: zipp>=0.5 in /usr/local/lib/python3.8/dist-packages (from importlib-metadata>=4.8.0->gym[classic_control]) (3.11.0)\n"
          ]
        },
        {
          "output_type": "display_data",
          "data": {
            "text/plain": [
              "<Figure size 864x576 with 0 Axes>"
            ]
          },
          "metadata": {}
        },
        {
          "output_type": "display_data",
          "data": {
            "text/plain": [
              "<Figure size 432x288 with 2 Axes>"
            ],
            "image/png": "[encoded data removed]"
          },
          "metadata": {
            "needs_background": "light"
          }
        }
      ],
      "source": [
        "!pip install gym\n",
        "!pip install gym[classic_control]\n",
        "\n",
        "import gym\n",
        "import matplotlib.pyplot as plt\n",
        "\n",
        "env_cart = gym.make(\"CartPole-v0\", render_mode=\"rgb_array\", new_step_api=True)\n",
        "env_mount = gym.make(\"MountainCar-v0\", render_mode=\"rgb_array\", new_step_api=True)\n",
        "\n",
        "#plt.plot(env_cart)\n",
        "#plt.plot(env_mount)\n",
        "\n",
        "fig = plt.figure(figsize=(12,8))\n",
        "fig, ax_lst = plt.subplots(1, 2)\n",
        "\n",
        "env_cart.reset()\n",
        "env_mount.reset()\n",
        "\n",
        "ax_lst[0].imshow(env_cart.render()[0])\n",
        "ax_lst[1].imshow(env_mount.render()[0])\n",
        "\n",
        "plt.show()"
      ]
    },
    {
      "cell_type": "markdown",
      "id": "fca3781a-229f-451a-af3b-d776dff5dbdc",
      "metadata": {
        "id": "fca3781a-229f-451a-af3b-d776dff5dbdc"
      },
      "source": [
        "*L'environement CartPole évolue uniquement sur 1 dimension (une ligne) tandis que l'environement MountainCar évolue sur une fonction polynomiale (une courbe)*"
      ]
    },
    {
      "cell_type": "markdown",
      "id": "0210ddeb-4cff-41e4-8bcf-70f45a6c9ad6",
      "metadata": {
        "id": "0210ddeb-4cff-41e4-8bcf-70f45a6c9ad6"
      },
      "source": [
        "# Implémentation du DQN"
      ]
    },
    {
      "cell_type": "markdown",
      "id": "7e0070fc-e838-4592-8db2-7b941d75c92e",
      "metadata": {
        "id": "7e0070fc-e838-4592-8db2-7b941d75c92e"
      },
      "source": [
        "L'architecture neuronale pour résoudre le Deep Q-Learning (DQN) est un réseau de neurones profond. Il est composé d'une couche d'entrée, d'une couche cachée et d'une couche de sortie. La couche d'entrée prend en entrée les données de l'environnement (position et vitesse de la voiture) et les convertit en un vecteur d'entrée. La couche cachée est composée de plusieurs couches de neurones qui traitent les données et les convertissent en un vecteur de sortie. La couche de sortie prend en entrée le vecteur de sortie de la couche cachée et produit une action à effectuer (accélérer, freiner ou ne rien faire).\n",
        "\n",
        "**Q4. Implémentez ce réseau.**"
      ]
    },
    {
      "cell_type": "code",
      "execution_count": null,
      "id": "7a508645-ab27-46a9-8689-4b1235d3ef6a",
      "metadata": {
        "colab": {
          "base_uri": "https://localhost:8080/"
        },
        "id": "7a508645-ab27-46a9-8689-4b1235d3ef6a",
        "outputId": "06e22379-9827-462f-b0f8-1a71c0d6106f"
      },
      "outputs": [
        {
          "output_type": "execute_result",
          "data": {
            "text/plain": [
              "array([-0.02164604,  0.04198291], dtype=float32)"
            ]
          },
          "metadata": {},
          "execution_count": 37
        }
      ],
      "source": [
        "import tensorflow as tf\n",
        "\n",
        "def model_DQN(env):\n",
        "\n",
        "    input = env.reset()[0:2] #2 first are position and speed\n",
        "    shape = input.shape\n",
        "\n",
        "\n",
        "\n",
        "    model = tf.keras.Sequential([\n",
        "        tf.keras.layers.Flatten(input_shape=shape),\n",
        "        tf.keras.layers.Dense(128, activation='relu'),\n",
        "        tf.keras.layers.Dense(3)\n",
        "    ])\n",
        "\n",
        "v = env_cart.reset()[0:2]\n",
        "\n",
        "v"
      ]
    },
    {
      "cell_type": "markdown",
      "id": "a741d29d-518d-4932-b39d-506db2bc678f",
      "metadata": {
        "id": "a741d29d-518d-4932-b39d-506db2bc678f"
      },
      "source": [
        "La fonction de perte est une fonction qui mesure la différence entre les valeurs prédites et les valeurs réelles. \n",
        "Dans le cas du DQN, la fonction de perte mesure la différence entre la valeur prédite par le réseau de neurones et la valeur réelle obtenue par l'environnement en utilisant la formule suivante :\n",
        "\n",
        "La fonction de perte est donnée par :\n",
        "$$L(\\theta) = \\mathbb{E}_{s_t,a_t \\sim \\rho(.)}[(Q_{\\theta}(s_t,a_t) - y_t)^2],$$\n",
        "où $\\theta$ est le vecteur de paramètres du réseau de neurones, $\\rho$ est la distribution de probabilité de l'état et de l'action, $Q_{\\theta}$ est la fonction de valeur estimée par le réseau de neurones, et $y_t$ est la cible de la fonction de valeur.\n",
        "\n",
        "$$y_t = \\mathbb{E}_{s_{t+1},a_{t+1} \\sim \\rho(.)}[r(s_t,a_t) + \\gamma \\max_{a}Q_{\\theta}(s_{t+1},a_{t+1})].$$\n"
      ]
    },
    {
      "cell_type": "markdown",
      "id": "cfc8ed12-503a-448b-9296-7acbc537f3c4",
      "metadata": {
        "id": "cfc8ed12-503a-448b-9296-7acbc537f3c4"
      },
      "source": [
        "**Q5. Implémentez une fonction `compute_loss` telle que décrite par :**\n",
        "\n",
        "```python\n",
        "def compute_loss(\n",
        "    model: nn.Module,\n",
        "    state: torch.Tensor, \n",
        "    next_state: torch.Tensor,\n",
        "    reward: torch.Tensor,\n",
        "    action: torch.Tensor,\n",
        "    done: torch.Tensor,\n",
        "):\n",
        "    \"\"\"\n",
        "    Compute the DQN agent loss\n",
        "    \"\"\"\n",
        "    # A compléter\n",
        "```"
      ]
    },
    {
      "cell_type": "markdown",
      "id": "e4020bf6-eb8c-4411-9eed-07fc69ca6190",
      "metadata": {
        "id": "e4020bf6-eb8c-4411-9eed-07fc69ca6190"
      },
      "source": [
        "**Q6. Complétez le code suivant et tracez la courbe de la récompense.**"
      ]
    },
    {
      "cell_type": "code",
      "execution_count": null,
      "id": "97e6f81b-dc4b-4385-bcc2-39297b72901c",
      "metadata": {
        "id": "97e6f81b-dc4b-4385-bcc2-39297b72901c"
      },
      "outputs": [],
      "source": [
        "import typing as t\n",
        "import gym\n",
        "import tqdm\n",
        "import torch\n",
        "import torch.nn as nn\n",
        "import torch.optim as optim\n",
        "import torch.nn.functional as F\n",
        "from collections import deque\n",
        "\n",
        "# DQN Agent\n",
        "class DQNAgent:\n",
        "    def __init__(self, env, device):\n",
        "        self.env = env\n",
        "        self.device = device\n",
        "        self.state_size = env.observation_space.shape[0]\n",
        "        self.action_size = env.action_space.n\n",
        "        self._memory: t.Deque[t.Tuple[np.ndarray, int, float, np.ndarray, bool]] = deque(maxlen=2000)\n",
        "        self.batch_size = 32\n",
        "        self.gamma = 0.95    # discount rate\n",
        "        self.epsilon = 1.0  # exploration rate\n",
        "        self.epsilon_min = 0.01\n",
        "        self.epsilon_decay = 0.995\n",
        "        self.learning_rate = 0.001\n",
        "        self.model = self._build_model()\n",
        "\n",
        "    def _build_model(self):\n",
        "        # Neural Net for Deep-Q learning Model\n",
        "        # Ajoutez votre code ici\n",
        "        return model\n",
        "\n",
        "    def remember(self, state: np.ndarray, action: int, reward: float, next_state: np.ndarray, done: bool):\n",
        "        self._memory.append((state, action, reward, next_state, done))\n",
        "\n",
        "    def act(self, state: np.ndarray) -> int:\n",
        "        # Exploration : choisir une action aléatoire avec une probabilité epsilon\n",
        "        # Ajoutez votre code ici\n",
        "        \n",
        "        # Choisir une action à partir du modèle\n",
        "        # Ajoutez votre code ici\n",
        "\n",
        "    def replay(self):\n",
        "        minibatch = random.sample(self._memory, self.batch_size)\n",
        "        states = torch.from_numpy(np.vstack([x[0] for x in minibatch])).float().to(self.device)\n",
        "        actions = torch.from_numpy(np.vstack([x[1] for x in minibatch])).long().to(self.device)\n",
        "        rewards = torch.from_numpy(np.vstack([x[2] for x in minibatch])).float().to(self.device)\n",
        "        next_states = torch.from_numpy(np.vstack([x[3] for x in minibatch])).float().to(self.device)\n",
        "        dones = torch.from_numpy(np.vstack([x[4] for x in minibatch])).float().to(self.device)\n",
        "\n",
        "        q_values = self.model(states)\n",
        "        q_next_state = self.model(next_states)\n",
        "        self.optimizer.zero_grad()\n",
        "\n",
        "        # Optimisation du réseau de neurones\n",
        "        # Ajoutez votre code ici\n",
        "\n",
        "        self.optimizer.step()\n",
        "\n",
        "        # Réduction d'epsilon\n",
        "        # Ajoutez votre code ici\n",
        "\n",
        "    def train(self, episodes: int):\n",
        "        self.optimizer = optim.Adam(self.model.parameters(), lr=self.learning_rate)\n",
        "        scores = []\n",
        "        with tqdm.tqdm(range(episodes)) as t:\n",
        "            for e in t:\n",
        "                state, _ = self.env.reset()\n",
        "                done = False\n",
        "                score = 0\n",
        "                while not done:\n",
        "                    action = self.act(state)\n",
        "                    next_state, reward, done, _, _ = self.env.step(action)\n",
        "                    self.remember(state, action, reward, next_state, done)\n",
        "                    state = next_state\n",
        "                    score += reward\n",
        "                    if len(self._memory) > self.batch_size:\n",
        "                        self.replay()\n",
        "                scores.append(score)\n",
        "                t.set_postfix(reward=score)\n",
        "        return scores\n",
        "    \n",
        "\n",
        "# Initialize environment\n",
        "env = gym.make('MountainCar-v0')\n",
        "device = torch.device(\"cuda:0\" if torch.cuda.is_available() else \"cpu\")\n",
        "\n",
        "# Initialize agent\n",
        "agent = DQNAgent(env, device)\n",
        "\n",
        "# Train agent\n",
        "scores = agent.train(episodes=1000)"
      ]
    },
    {
      "cell_type": "markdown",
      "id": "4206ea24-a9dd-4994-b295-64d26967d74c",
      "metadata": {
        "id": "4206ea24-a9dd-4994-b295-64d26967d74c"
      },
      "source": [
        "**Q7. Visualisez la vidéo d'un cas d'échec et d'un cas de réussite.**"
      ]
    },
    {
      "cell_type": "code",
      "execution_count": null,
      "id": "8b7ad1e1-57c0-4acc-8f6d-12f605ab5a10",
      "metadata": {
        "id": "8b7ad1e1-57c0-4acc-8f6d-12f605ab5a10"
      },
      "outputs": [],
      "source": [
        "# Ajoutez votre code ici"
      ]
    },
    {
      "cell_type": "markdown",
      "id": "6744175a-7a26-4181-8656-9c3d83216d91",
      "metadata": {
        "id": "6744175a-7a26-4181-8656-9c3d83216d91"
      },
      "source": [
        "*[Ajoutez votre réponse ici]*"
      ]
    },
    {
      "cell_type": "markdown",
      "id": "834f749c-3310-4cb5-93bc-2e2604006fab",
      "metadata": {
        "id": "834f749c-3310-4cb5-93bc-2e2604006fab"
      },
      "source": [
        "# Double DQN"
      ]
    },
    {
      "cell_type": "markdown",
      "id": "897bb918-1578-458e-a0d4-922666eb1a06",
      "metadata": {
        "id": "897bb918-1578-458e-a0d4-922666eb1a06"
      },
      "source": [
        "\n",
        "Le Double DQN est un algorithme d'apprentissage par renforcement qui combine le DQN avec une technique appelée Prise de décision double. Le Double DQN permet à l'agent d'explorer plus intelligemment des environnements complexes et imprévisibles. L'algorithme est conçu pour maximiser la valeur estimée sur la base des informations disponibles.\n",
        "\n",
        "L'algorithme commence par initialiser des paramètres pour le modèle de réseau neuronal profond et deux cibles de réseaux distincts, X et Y. Les deux cibles sont des copies parallèles, mais le modèle X est mis à jour plus fréquemment que le modèle Y. Quand un agent prend une action, il utilise le réseau X pour calculer la valeur estimée et recueille le feedback après l'action. L'agent utilise ensuite le réseau Y pour déterminer quelle était l'action optimale à partir de cette valeur estimée. \n",
        "\n",
        "Cette procédure est appelée *prise de décision double*. Elle réduit l'instabilité et les biais de l'exploration liés à la maximisation prématurée.\n",
        "\n",
        "**Q8. Ajoutez le Double DQN sur votre implémentation précédente.**"
      ]
    },
    {
      "cell_type": "code",
      "execution_count": null,
      "id": "6ad48e09-aade-4518-86e6-48cb2bdd5b83",
      "metadata": {
        "id": "6ad48e09-aade-4518-86e6-48cb2bdd5b83"
      },
      "outputs": [],
      "source": [
        "# Ajoutez votre code ici\n",
        "        return model\n",
        "\n",
        "    def remember(self, state: np.ndarray, action: int, reward: float, next_state: np.ndarray, done: bool):\n",
        "        self._memory.append((state, action, reward, next_state, done))\n",
        "\n",
        "    def act(self, state: np.ndarray) -> int:\n",
        "        # Exploration : choisir une action aléatoire avec une probabilité epsilon\n",
        "        # Ajoutez votre code ici\n",
        "        \n",
        "        # Choisir une action à partir du modèle\n",
        "        # Ajoutez votre code ici\n",
        "\n",
        "    def replay(self):\n",
        "        minibatch = random.sample(self._memory, self.batch_size)\n",
        "        states = torch.from_numpy(np.vstack([x[0] for x in minibatch])).float().to(self.device)\n",
        "        actions = torch.from_numpy(np.vstack([x[1] for x in minibatch])).long().to(self.device)\n",
        "        rewards = torch.from_numpy(np.vstack([x[2] for x in minibatch])).float().to(self.device)\n",
        "        next_states = torch.from_numpy(np.vstack([x[3] for x in minibatch])).float().to(self.device)\n",
        "        dones = torch.from_numpy(np.vstack([x[4] for x in minibatch])).float().to(self.device)\n",
        "        \n",
        "        q_values = self.model(states)\n",
        "        q_next_state = self.model(next_states)\n",
        "        self.optimizer.zero_grad()\n",
        "        \n",
        "        # Optimisation du réseau de neurones\n",
        "        # Ajoutez votre code ici\n",
        "        \n",
        "        self.optimizer.step()\n",
        "\n",
        "        # Réduction d'epsilon\n",
        "        # Ajoutez votre code ici\n",
        "\n",
        "    def train(self, episodes):\n",
        "        self.optimizer = optim.Adam(self.model.parameters(), lr=self.learning_rate)\n",
        "        scores = []\n",
        "        for e in tqdm.tqdm(range(episodes)):\n",
        "            state, _ = self.env.reset()\n",
        "            done = False\n",
        "            score = 0\n",
        "            while not done:\n",
        "                action = self.act(state)\n",
        "                next_state, reward, done, _, _ = self.env.step(action)\n",
        "                self.remember(state, action, reward, next_state, done)\n",
        "                state = next_state\n",
        "                score += reward\n",
        "                if len(self._memory) > self.batch_size:\n",
        "                    self.replay()\n",
        "            scores.append(score)\n",
        "            if e % 10 == 0:\n",
        "                self.target_model.load_state_dict(self.model.state_dict())\n",
        "        return scores\n",
        "    \n",
        "\n",
        "# Initialize environment\n",
        "env = gym.make('MountainCar-v0')\n",
        "device = torch.device(\"cuda:0\" if torch.cuda.is_available() else \"cpu\")\n",
        "\n",
        "# Initialize agent\n",
        "agent = DDQNAgent(env, device)\n",
        "\n",
        "# Train agent\n",
        "scores = agent.train(episodes=1000)\n",
        "# Solution fin"
      ]
    },
    {
      "cell_type": "markdown",
      "id": "c3697184-1ab4-4c3d-8e6c-b804575e1c4f",
      "metadata": {
        "id": "c3697184-1ab4-4c3d-8e6c-b804575e1c4f"
      },
      "source": [
        "*[Ajoutez votre réponse ici]*"
      ]
    },
    {
      "cell_type": "markdown",
      "id": "62e4cd22-bd90-4910-9941-382230df8067",
      "metadata": {
        "id": "62e4cd22-bd90-4910-9941-382230df8067"
      },
      "source": [
        "**Q9. En cherchant sur Internet, proposez une série d'améliorations possibles et décrivez les**"
      ]
    },
    {
      "cell_type": "markdown",
      "id": "8e069d30-a4d2-4b01-addc-5677945c8854",
      "metadata": {
        "id": "8e069d30-a4d2-4b01-addc-5677945c8854"
      },
      "source": [
        "*[Ajoutez votre réponse ici]*"
      ]
    }
  ],
  "metadata": {
    "kernelspec": {
      "display_name": "Python 3 (ipykernel)",
      "language": "python",
      "name": "python3"
    },
    "language_info": {
      "codemirror_mode": {
        "name": "ipython",
        "version": 3
      },
      "file_extension": ".py",
      "mimetype": "text/x-python",
      "name": "python",
      "nbconvert_exporter": "python",
      "pygments_lexer": "ipython3",
      "version": "3.11.0rc1"
    },
    "colab": {
      "provenance": [],
      "include_colab_link": true
    }
  },
  "nbformat": 4,
  "nbformat_minor": 5
}