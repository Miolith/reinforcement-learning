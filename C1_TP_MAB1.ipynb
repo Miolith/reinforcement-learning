{
 "cells": [
  {
   "cell_type": "markdown",
   "metadata": {
    "id": "OyXNj5cfcSvL",
    "tags": []
   },
   "source": [
    "# Introduction à l'apprentissage par renforcement\n",
    "# TP 1 - les manchots multi-bras\n",
    "\n",
    "Etudiant·e :\n",
    "- Nelson VICEL--FARAH\n",
    "- Karen KASPAR\n",
    "- Antoine ZELLMEYER\n",
    "- Romain BRAND\n",
    "\n",
    "1/4 de la note finale est liée à la mise en forme : \n",
    "\n",
    "* pensez à nettoyer les outputs inutiles (installation, messages de débuggage, ...)\n",
    "* soignez vos figures : les axes sont-ils faciles à comprendre ? L'échelle est adaptée ? \n",
    "* commentez vos résultats : vous attendiez-vous à les avoir ? Est-ce étonnant ? Faites le lien avec la théorie.\n",
    "\n",
    "Ce TP reprend l'exemple d'un médecin et de ses vaccins. Vous allez comparer plusieurs stratégies et trouver celle optimale.\n",
    "Un TP se fait en groupe de 2 à 4. Aucun groupe de plus de 4 personnes. \n",
    "\n",
    "Vous allez rendre le TP dans une archive ZIP. L'archive ZIP contient ce notebook au format `ipynb`, mais aussi exporté en PDF & HTML. \n",
    "L'archive ZIP doit aussi contenir un fichier txt appelé `groupe.txt` sous le format:\n",
    "\n",
    "```\n",
    "Nom1, Prenom1, Email1, NumEtudiant1\n",
    "Nom2, Prenom2, Email2, NumEtudiant2\n",
    "Nom3, Prenom3, Email3, NumEtudiant3\n",
    "Nom4, Prenom4, Email4, NumEtudiant4\n",
    "```\n",
    "\n",
    "Un script vient extraire vos réponses : ne changez pas l'ordre des cellules et soyez sûrs que les graphes sont bien présents dans la version notebook soumise. "
   ]
  },
  {
   "cell_type": "code",
   "execution_count": 1,
   "metadata": {
    "id": "KbvmkH8ocSvT"
   },
   "outputs": [],
   "source": [
    "%%capture\n",
    "!pip install matplotlib tqdm numpy ipympl opencv-python\n",
    "!jupyter labextension install @jupyter-widgets/jupyterlab-manager\n",
    "!jupyter labextension install jupyter-matplotlib"
   ]
  },
  {
   "cell_type": "code",
   "execution_count": 2,
   "metadata": {
    "colab": {
     "base_uri": "https://localhost:8080/"
    },
    "id": "Hz9cCkHLcSvV",
    "outputId": "d6f9dc76-3be3-4f40-8ee0-415eea75d109"
   },
   "outputs": [],
   "source": [
    "%load_ext autoreload\n",
    "%autoreload 2\n",
    "%matplotlib inline \n",
    "\n",
    "import typing as t\n",
    "import math\n",
    "import torch\n",
    "import numpy as np\n",
    "from tqdm.auto import trange, tqdm\n",
    "import matplotlib.pyplot as plt\n",
    "from matplotlib.animation import FuncAnimation\n",
    "import matplotlib.animation as animation\n",
    "from matplotlib.backends.backend_agg import FigureCanvasAgg as FigureCanvas\n",
    "import cv2\n",
    "from IPython.display import display, clear_output\n",
    "\n",
    "torch.random.manual_seed(0)\n",
    "\n",
    "K = 5 # num arms"
   ]
  },
  {
   "cell_type": "markdown",
   "metadata": {
    "id": "lYRcendOcSvW"
   },
   "source": [
    "# Présentation du problème"
   ]
  },
  {
   "cell_type": "code",
   "execution_count": 3,
   "metadata": {
    "id": "MAnTKEb3cSvW"
   },
   "outputs": [],
   "source": [
    "class ArmBernoulli:\n",
    "    def __init__(self, p: float, random_state: t.Optional[int] = None):\n",
    "        \"\"\"\n",
    "        Vaccine treatment following a Bernoulli law (mean is p and variance is p(1-p)\n",
    "        Args:\n",
    "             p (float): mean parameter\n",
    "             random_state (int): seed to make experiments reproducible\n",
    "             \n",
    "        >>> arm = ArmBernoulli(0.5, 0)\n",
    "        >>> arm.sample(5)\n",
    "        tensor([ True, False,  True,  True,  True])\n",
    "        \"\"\"\n",
    "        if random_state is not None:\n",
    "            torch.random.manual_seed(random_state)\n",
    "        self.immunity_rate = p\n",
    "\n",
    "    def sample(self, n: int = 1):\n",
    "        return torch.rand(n) < self.immunity_rate\n",
    "    \n",
    "    def __repr__(self):\n",
    "        return f'<ArmBernoulli p={self.immunity_rate}' \n",
    "\n",
    "def generate_arms(num_arms: int):\n",
    "    means = torch.rand(num_arms)\n",
    "    MAB = [ArmBernoulli(m) for m in means]\n",
    "    assert MAB[0].immunity_rate == means[0]\n",
    "    assert (MAB[0].sample(10) <= 1).all() and (MAB[0].sample(10) >= 0).all() \n",
    "    return MAB\n",
    "\n",
    "MAB = generate_arms(K)"
   ]
  },
  {
   "cell_type": "markdown",
   "metadata": {
    "id": "4w3jSjh_cSvX"
   },
   "source": [
    "**Note importante :** pour la suite, les tests seront faits avec 10 MAB différents ou plus pour réduire le bruit de simulation. \n",
    "\n",
    "Ce TP reprend l'exemple du médecin présenté en cours.\n",
    "\n",
    "\n",
    "**Q1. Que vaut $\\mu^*$ avec `random_state = 0`? Comment est définie la récompense $R_k$ ? Que représente concrètement le regret dans cet exemple ?**"
   ]
  },
  {
   "cell_type": "code",
   "execution_count": 4,
   "metadata": {
    "colab": {
     "base_uri": "https://localhost:8080/"
    },
    "id": "UUmpfUB7cSvX",
    "outputId": "b0866817-2f5f-4bc7-fc39-3d59c127b6e8"
   },
   "outputs": [
    {
     "name": "stdout",
     "output_type": "stream",
     "text": [
      "0.9971\n"
     ]
    }
   ],
   "source": [
    "import random\n",
    "\n",
    "def get_index_patients(patients_list: t.List[int], vaccin: int):\n",
    "    indexes = []\n",
    "    for index, value in enumerate(patients_list):\n",
    "        if (value == vaccin):\n",
    "            indexes.append(index) \n",
    "    return indexes\n",
    "\n",
    "class Simulation:\n",
    "    def __init__(self, N: int, M: int, nbr_vaccins: int):\n",
    "        \"\"\"\n",
    "        \"\"\"\n",
    "        self.N = N\n",
    "        self.M = M\n",
    "        self.nbr_vaccins = nbr_vaccins\n",
    "        self.vaccins_list = generate_arms(nbr_vaccins)\n",
    "        self.patients_list_of_vaccins = self.get_patients_list_of_vaccins()\n",
    "        self.mu_star = self.get_mu_star()\n",
    "        self.patients_immunity = self.get_patients_immunity()\n",
    "        self.sum_R_k = self.get_sum_R_k()\n",
    "        \n",
    "\n",
    "    def get_patients_list_of_vaccins(self):\n",
    "        list_patient = [\n",
    "            random.randint(1,self.nbr_vaccins) if i < self.N\n",
    "            else 0\n",
    "            for i in range(self.N + self.M)\n",
    "        ]\n",
    "        return list_patient\n",
    "    \n",
    "    def get_mu_star(self):\n",
    "        mu_tensor = [vaccin.immunity_rate for vaccin in self.vaccins_list]\n",
    "        mu_list = [i.item() for i in mu_tensor]\n",
    "        return max(mu_list)\n",
    "    \n",
    "    def get_patients_immunity(self):\n",
    "        vaccin_use = self.get_vaccin_use()\n",
    "        patients_immunity = [0 for patient in self.patients_list_of_vaccins]\n",
    "        \n",
    "        for index, vaccin in enumerate(self.vaccins_list):\n",
    "            samples = vaccin.sample(vaccin_use[index]).int()\n",
    "            samples = samples.tolist()\n",
    "            all_patients = get_index_patients(self.patients_list_of_vaccins, index+1)  \n",
    "            for s, index in zip(samples, all_patients):\n",
    "                patients_immunity[index] = s\n",
    "          \n",
    "        return patients_immunity\n",
    "    \n",
    "    def get_sum_R_k(self):\n",
    "        return sum(self.patients_immunity)\n",
    "    \n",
    "    def get_vaccin_use(self):\n",
    "        vaccin_use = [0 for i in range(self.nbr_vaccins)]\n",
    "        for patient in self.patients_list_of_vaccins:\n",
    "            if patient >0:\n",
    "                vaccin_use[patient-1]+=1\n",
    "        return vaccin_use\n",
    "    \n",
    "    def get_reward_vaccin(self, vaccin_index):\n",
    "        reward = 0\n",
    "        for patient_vaccin, immunity in zip(self.patients_list_of_vaccins, self.patients_immunity):\n",
    "            if (patient_vaccin == vaccin_index and immunity):\n",
    "                reward+=1\n",
    "        return reward\n",
    "    \n",
    "    def get_immunization_rate(self):\n",
    "        vaccin_use = self.get_vaccin_use()\n",
    "        immunization_rate = [\n",
    "            0 if vaccin_use[index] == 0\n",
    "            else \n",
    "            1/vaccin_use[index]*self.get_reward_vaccin(index+1) \n",
    "            for index, vaccin in enumerate(self.vaccins_list)\n",
    "        ]\n",
    "        return immunization_rate\n",
    "    \n",
    "    def get_vaccin_with_best_rate(self):\n",
    "        rates = self.get_immunization_rate()\n",
    "        best_rate = max(rates)\n",
    "        return rates.index(best_rate)+1\n",
    "    \n",
    "    def update_exploration(self):\n",
    "        vaccin = self.get_vaccin_with_best_rate()\n",
    "        self.patients_list_of_vaccins = [\n",
    "            patient if index < self.N\n",
    "            else vaccin\n",
    "            for patient, index in zip(self.patients_list_of_vaccins, range(self.N + self.M))\n",
    "        ]\n",
    "        self.update_immunity()\n",
    "        return self\n",
    "        \n",
    "    def update_immunity(self):\n",
    "        self.patients_immunity = self.get_patients_immunity()\n",
    "        self.sum_R_k = self.get_sum_R_k()\n",
    "        return self.patients_immunity\n",
    "    \n",
    "  \n",
    "\n",
    "def get_regret(simulation: Simulation):\n",
    "    \"\"\"      \n",
    "    \"\"\"     \n",
    "    return (simulation.N+simulation.M) * simulation.mu_star - simulation.sum_R_k\n",
    "\n",
    "torch.random.manual_seed(0)\n",
    "MAB_10 = [generate_arms(K) for i in range(10)]\n",
    "mu_star = max([max([arm.immunity_rate for arm in MAB]) for MAB in MAB_10])\n",
    "\n",
    "print(\"%.4f\" % mu_star)"
   ]
  },
  {
   "cell_type": "markdown",
   "metadata": {
    "id": "eTdzu3O5cSvZ"
   },
   "source": [
    "La récompense $R_k$ de chaque bras de la simulation est définie comme une distribution de Bernouilli de paramètre $\\mu_k$. Ainsi la moyenne $\\hat{\\mu}_k$ de chaque bras est égale à l'espérance de la distribution de Bernouilli de paramètre $\\mu_k$, elle est donc égale au paramètre $p=\\mu_k$.\n",
    "\n",
    "Ainsi, $\\mu^*$ qui correspond à la récompense moyenne du meilleur vaccin $i$, correspond donc à $max(\\mu_k)$ et la récompense $R_k$ est équivalente à $R_k=B(p=\\mu_k)$.\n",
    "\n",
    "Concrétement, le regret correspond à: $r_N=N\\mu^*-\\sum\\limits _{k=0} ^{N-1}R_k$.\n",
    "Il s'agit donc de l'écart entre N fois la moyenne et tout les patient immunisé. Il s'agit donc de l'écart entre le nombre de patient immunisé s'ils avaient pris le meilleur vaccin $i$ et le nombre de patient immunisé dans la simulation."
   ]
  },
  {
   "cell_type": "markdown",
   "metadata": {
    "id": "AbvTkX3zcSvZ"
   },
   "source": [
    "# I. Cas classique des bandits manchots "
   ]
  },
  {
   "cell_type": "markdown",
   "metadata": {
    "id": "5mKQ5gaFcSvZ",
    "tags": []
   },
   "source": [
    "## I.a. Solution Gloutonne"
   ]
  },
  {
   "cell_type": "markdown",
   "metadata": {
    "id": "89PC0zeAcSvZ"
   },
   "source": [
    "Le médecin fonctionne sur deux phases :\n",
    "\n",
    "1. **Exploration :** N patients reçoivent une dose d'un vaccin choisi aléatoirement. Le médecin calcule le taux d'immunisation empirique :\n",
    "\n",
    "$$\\bar{R_i} = \\frac{1}{T_i} \\sum_{k=0}^{N-1} \\chi_{v_k,i}R_k,$$\n",
    "\n",
    "avec $T_i = \\sum_{k=0}^{N-1} \\chi_{v_k,i}$.\n",
    "\n",
    "\n",
    "2. **Exploitation :** Le vaccin $v_i = \\arg\\max_j \\bar{R_j}$ est utilisé pour les M patients suivants. C'est la phase de test.\n",
    "\n",
    "**Q2. Implémentez la solution gloutonne avec N = 50 et M = 500 et testez la avec 100 MAB différents (tous ont 5 vaccins). On s'intéresse à la variable aléatoire \"la phase d'exploration a trouvé le bon vaccin\". Quelle est l'espérance empirique de cette variable ? Et son écart-type ? Calculez de même l'espérance et l'écart-type du regret sur vos 100 simulations.**\n",
    "\n",
    "Pour rappel, le regret est défini par :\n",
    "\n",
    "$$r_n = n\\mu^* - \\sum_{k=0}^{n-1} R_k$$\n",
    "\n",
    "**Attention :** $n$ est le nombre total de patients, donc ici $N + M$."
   ]
  },
  {
   "cell_type": "code",
   "execution_count": 5,
   "metadata": {
    "id": "6Cc1SdqOcSvZ"
   },
   "outputs": [
    {
     "name": "stdout",
     "output_type": "stream",
     "text": [
      "L'espérance empirique de 'trouver le bon vaccin' vaut : 0.7300\n",
      "L'écart type 'trouver le bon vaccin' vaut : 0.4462\n",
      "L'espérance du regret vaut : 33.2866\n",
      "L'écart-type du regret vaut : 34.4641\n"
     ]
    }
   ],
   "source": [
    "MAB_100 = [generate_arms(5) for i in range(100)]\n",
    "N = 50\n",
    "M = 500\n",
    "n = N + M\n",
    "\n",
    "results = torch.zeros(100)\n",
    "regret = torch.zeros(100)\n",
    "\n",
    "for i, MAB in enumerate(MAB_100):\n",
    "    # Exploration\n",
    "    reward = torch.zeros(5)\n",
    "    T = torch.zeros(5)\n",
    "    for k in range(N):\n",
    "        vaccin = torch.randint(low=0, high=5, size=(1,))\n",
    "        T[vaccin] += 1\n",
    "        reward[vaccin] += MAB[vaccin].sample(1).int().item()\n",
    "\n",
    "    best_vaccin = torch.argmax(reward / T)\n",
    "    actual_best = torch.argmax(torch.tensor([v.immunity_rate for v in MAB]))\n",
    "    \n",
    "    results[i] = int(best_vaccin == actual_best)\n",
    "    \n",
    "    # Exploitation\n",
    "    reward[best_vaccin] += MAB[best_vaccin].sample(M).sum() \n",
    "    regret[i] = n*MAB[actual_best].immunity_rate - reward.sum()\n",
    "\n",
    "\n",
    "esperance = results.mean()\n",
    "ecart_type = torch.std(results)\n",
    "\n",
    "regret_moyen = regret.mean()\n",
    "regret_ecart_type = torch.std(regret)\n",
    "\n",
    "print(\"L'espérance empirique de 'trouver le bon vaccin' vaut : %.4f\" % esperance)\n",
    "print(\"L'écart type 'trouver le bon vaccin' vaut : %.4f\" % ecart_type)\n",
    "print(\"L'espérance du regret vaut : %.4f\" % regret_moyen)\n",
    "print(\"L'écart-type du regret vaut : %.4f\" % regret_ecart_type)"
   ]
  },
  {
   "cell_type": "markdown",
   "metadata": {
    "id": "kGI11BUzcSva"
   },
   "source": [
    "**Q3. On propose d'améliorer l'algorithme précédant en mettant à jour les taux d'immunisation empiriques $\\bar{R}_i$ pendant la PHASE d'EXPLOITATION. Notez vous une amélioration du regret ? Proposez un exemple dans lequel cette mise à jour ne changera rien.** "
   ]
  },
  {
   "cell_type": "code",
   "execution_count": 47,
   "metadata": {},
   "outputs": [
    {
     "name": "stdout",
     "output_type": "stream",
     "text": [
      "L'espérance du regret vaut : 22.0973\n",
      "L'écart-type du regret vaut : 14.7117\n"
     ]
    }
   ],
   "source": [
    "MAB_100 = [generate_arms(5) for i in range(100)]\n",
    "N = 50\n",
    "M = 500\n",
    "n = N + M\n",
    "\n",
    "regret = torch.zeros(100)\n",
    "\n",
    "for i, MAB in enumerate(MAB_100):\n",
    "    # Exploration\n",
    "    reward = torch.zeros(5)\n",
    "    T = torch.zeros(5)\n",
    "    for k in range(N):\n",
    "        vaccin = torch.randint(low=0, high=5, size=(1,))\n",
    "        T[vaccin] += 1\n",
    "        reward[vaccin] += MAB[vaccin].sample(1).int().item()\n",
    "\n",
    "    best_vaccin = torch.argmax(reward / T)\n",
    "    actual_best = torch.argmax(torch.tensor([v.immunity_rate for v in MAB]))\n",
    "    \n",
    "    # Exploitation\n",
    "    vaccin = best_vaccin\n",
    "    for k in range(M):\n",
    "        reward[vaccin] += MAB[vaccin].sample(1).int().item()\n",
    "        T[vaccin] += 1\n",
    "        vaccin = torch.argmax(reward / T)\n",
    "        \n",
    "        \n",
    "    regret[i] = n*MAB[actual_best].immunity_rate - reward.sum()\n",
    "\n",
    "    \n",
    "regret_glouton = regret\n",
    "\n",
    "regret_moyen = regret.mean()\n",
    "regret_ecart_type = torch.std(regret)\n",
    "\n",
    "\n",
    "print(\"L'espérance du regret vaut : %.4f\" % regret_moyen)\n",
    "print(\"L'écart-type du regret vaut : %.4f\" % regret_ecart_type)"
   ]
  },
  {
   "cell_type": "markdown",
   "metadata": {
    "id": "ROl6hU0McSva"
   },
   "source": [
    "On observe une amélioration du regret d'à peu près ~10."
   ]
  },
  {
   "cell_type": "markdown",
   "metadata": {
    "id": "TwBSDFU-cSva"
   },
   "source": [
    "**Q4. Créez une figure contenant deux sous-figures : à gauche, le taux d'immunisation empirique $\\bar{R}_i$ pour les 5 vaccins ; à droite, le regret $r_n$. La figure sera animée avec les patients : chaque frame $k$ de l'animation représente le vaccin que l'on donne au $k$-ième patient.**"
   ]
  },
  {
   "cell_type": "code",
   "execution_count": 7,
   "metadata": {
    "id": "zn9kFcrKcSva"
   },
   "outputs": [
    {
     "data": {
      "text/plain": [
       "[<matplotlib.lines.Line2D at 0x2199c2c9ee0>]"
      ]
     },
     "execution_count": 7,
     "metadata": {},
     "output_type": "execute_result"
    },
    {
     "data": {
      "image/png": "[encoded data removed]",
      "text/plain": [
       "<Figure size 1080x360 with 2 Axes>"
      ]
     },
     "metadata": {
      "needs_background": "light"
     },
     "output_type": "display_data"
    }
   ],
   "source": [
    "#left Ri for each vaccin depending on k\n",
    "#regret\n",
    "\n",
    "#k frame\n",
    "\n",
    "##import numpy as np\n",
    "##import matplotlib.pyplot as plt\n",
    "##color = ['red', 'green', 'blue', 'orange']\n",
    "##fig = plt.figure()\n",
    "##plt.xticks(rotation=45, ha=\"right\", rotation_mode=\"anchor\") #rotate the x-axis values\n",
    "##plt.subplots_adjust(bottom = 0.2, top = 0.9) #ensuring the dates (on the x-axis) fit in the screen\n",
    "##plt.ylabel('No of Deaths')\n",
    "##plt.xlabel('Dates')\n",
    "\n",
    "\n",
    "##def buildmebarchart(i=int):\n",
    "##    plt.legend(df1.columns)\n",
    "##    p = plt.plot(df1[:i].index, df1[:i].values) #note it only returns the dataset, up to the point i\n",
    "##    for i in range(0,4):\n",
    "##        p[i].set_color(color[i]) #set the colour of each curve\n",
    "##import matplotlib.animation as ani\n",
    "##animator = ani.FuncAnimation(fig, buildmebarchart, interval = 100)\n",
    "##plt.show()\n",
    "\n",
    "MAB_100 = [generate_arms(5) for i in range(100)]\n",
    "N = 50\n",
    "M = 500\n",
    "n = N + M\n",
    "\n",
    "regret = torch.zeros(100)\n",
    "\n",
    "for i, MAB in enumerate(MAB_100):\n",
    "    # Exploration\n",
    "    reward = torch.zeros(5)\n",
    "    T = torch.zeros(5)\n",
    "    for k in range(N):\n",
    "        vaccin = torch.randint(low=0, high=5, size=(1,))\n",
    "        T[vaccin] += 1\n",
    "        reward[vaccin] += MAB[vaccin].sample(1).int().item()\n",
    "\n",
    "    best_vaccin = torch.argmax(reward / T)\n",
    "    actual_best = torch.argmax(torch.tensor([v.immunity_rate for v in MAB]))\n",
    "    \n",
    "    # Exploitation\n",
    "    vaccin = best_vaccin\n",
    "    for k in range(M):\n",
    "        reward[vaccin] += MAB[vaccin].sample(1).int().item()\n",
    "        T[vaccin] += 1\n",
    "        vaccin = torch.argmax(reward / T)\n",
    "        \n",
    "    regret[i] = n*MAB[actual_best].immunity_rate - reward.sum()\n",
    "\n",
    "\n",
    "fig, (ax1, ax2) = plt.subplots(1, 2, figsize=(15, 5))\n",
    "\n",
    "ax1.bar(range(5), reward / T)\n",
    "\n",
    "ax2.plot(regret)\n"
   ]
  },
  {
   "cell_type": "markdown",
   "metadata": {
    "id": "G2UPChKxcSva"
   },
   "source": [
    "*[Ajoutez votre commentaire ici]*"
   ]
  },
  {
   "cell_type": "markdown",
   "metadata": {
    "id": "rhFTMQETcSva"
   },
   "source": [
    "**Q5. On étudie maintenant l'influence de la taille du training set $N$. On considère que N+M est une constante, puis on fait varier N entre K et M. Calculez le regret pour ces différentes tailles du training set  différents MAB et representez le regret moyen, le regret min et max (vous devriez trouver une courbe en U ou en V pour le regret moyen). Quelle est la taille optimale du training set ?**"
   ]
  },
  {
   "cell_type": "code",
   "execution_count": 44,
   "metadata": {
    "colab": {
     "base_uri": "https://localhost:8080/",
     "height": 884
    },
    "id": "Cwy73PU4cSvb",
    "outputId": "da320c02-3dd6-45ac-e5e4-807c0ebb50ef"
   },
   "outputs": [
    {
     "name": "stdout",
     "output_type": "stream",
     "text": [
      "N optimal =  42\n"
     ]
    },
    {
     "data": {
      "image/png": "[encoded data removed]",
      "text/plain": [
       "<Figure size 432x288 with 1 Axes>"
      ]
     },
     "metadata": {
      "needs_background": "light"
     },
     "output_type": "display_data"
    }
   ],
   "source": [
    "import numpy as np\n",
    "import matplotlib.pyplot as plt\n",
    "\n",
    "#suppose M+N = 600\n",
    "# N varie de 5 550\n",
    "# M varie de 550 à 50\n",
    "\n",
    "multiverse = []\n",
    "for K in range (5, 200, 1):\n",
    "    N = K\n",
    "    M = 550 - K\n",
    "    simulations = [Simulation(N, M, 5) for i in range(100)]\n",
    "    simulations = [simulation.update_exploration() for simulation in simulations]\n",
    "    regrets = [get_regret(simulation) for simulation in simulations]\n",
    "    multiverse.append((regrets, K))\n",
    "\n",
    "mean_regrets = [(sum(regrets)/len(regrets), K) for regrets, K in multiverse]\n",
    "\n",
    "y = [mean for mean, K in mean_regrets]\n",
    "x = [K for mean, K in mean_regrets]\n",
    "\n",
    "N_opti = x[torch.argmin(torch.tensor(y))]\n",
    "M_opti = 550 - N_opti\n",
    "\n",
    "print(\"N optimal = \", N_opti)\n",
    "\n",
    "#print(x)\n",
    "#print(y)\n",
    "\n",
    "plt.plot(x, y)\n",
    "\n",
    "plt.show() # affiche la figure à l'écran"
   ]
  },
  {
   "cell_type": "markdown",
   "metadata": {
    "id": "E4T7xdrpcSvb"
   },
   "source": [
    "*[Ajoutez votre commentaire ici]*"
   ]
  },
  {
   "cell_type": "markdown",
   "metadata": {
    "id": "xDxwgRZ7cSvc",
    "tags": []
   },
   "source": [
    "## I.b. Borne inférieure de Lai & Robbins [Lai et Robbins, 1985]"
   ]
  },
  {
   "cell_type": "markdown",
   "metadata": {
    "id": "EqS-CgopcSvc"
   },
   "source": [
    "Pour un modèle de manchot de Bernoulli (équivalent au problème étudié), la borne inférieure de Lai et Robbins [Lai et Robbins, 1985] stipule que :\n",
    "\n",
    "$$\\lim \\inf_{n\\rightarrow \\infty} \\frac{\\sum_{k=0}^{n-1} R_k}{\\log n} \\geq \\sum_{i~\\text{tel que}~\\mu_i \\lt \\mu^*} \\frac{\\mu^∗−\\mu_i}{\\text{KL}(\\mu_i, \\mu^*)}  :=C(\\mu)$$\n",
    " \n",
    " avec $\\text{KL}(x, y) = x \\log(x/y) + (1 − x) \\log((1 − x)/(1 − y))$ (distance de Kullback-Leibler) et  $\\sum_{k=0}^{n-1} R_k$ la récompense obtenue sur $n$ patients (avec un algorithme optimal). \n",
    " \n",
    " \n",
    "**Q6. Justifiez pourquoi cette borne signifie que la machine optimale est jouée exponentiellement plus souvent que les autres machines.**"
   ]
  },
  {
   "cell_type": "markdown",
   "metadata": {
    "id": "3aPNxecLcSvc"
   },
   "source": [
    "*[Ajoutez votre commentaire ici]*"
   ]
  },
  {
   "cell_type": "markdown",
   "metadata": {
    "id": "psxIgSt7cSvd"
   },
   "source": [
    "**Q7. Tracez le regret issu de la borne de Lai & Robbins et comparez le au regret obtenu avec l'algorithme glouton.**"
   ]
  },
  {
   "cell_type": "code",
   "execution_count": 48,
   "metadata": {
    "id": "zNLV91d0cSvd"
   },
   "outputs": [
    {
     "name": "stdout",
     "output_type": "stream",
     "text": [
      "L'espérance du regret vaut : 22.0973\n",
      "L'écart-type du regret vaut : 14.7117\n",
      "L'espérance du regret_LR vaut : 535.1666\n",
      "L'écart-type du regret_LR vaut : 102.2321\n"
     ]
    },
    {
     "data": {
      "image/png": "[encoded data removed]",
      "text/plain": [
       "<Figure size 432x288 with 1 Axes>"
      ]
     },
     "metadata": {
      "needs_background": "light"
     },
     "output_type": "display_data"
    }
   ],
   "source": [
    "MAB_100 = [generate_arms(5) for i in range(100)]\n",
    "N = 50\n",
    "M = 600\n",
    "n = N + M\n",
    "\n",
    "kl_loss = torch.nn.KLDivLoss()\n",
    "\n",
    "regret = torch.zeros(100)\n",
    "regret_LR = torch.zeros(100)\n",
    "\n",
    "for i, MAB in enumerate(MAB_100):\n",
    "    # Exploration\n",
    "    reward = torch.zeros(5)\n",
    "    T = torch.zeros(5)\n",
    "    for k in range(N):\n",
    "        vaccin = torch.randint(low=0, high=5, size=(1,))\n",
    "        T[vaccin] += 1\n",
    "        reward[vaccin] += MAB[vaccin].sample(1).int().item()\n",
    "\n",
    "    best_vaccin = torch.argmax(reward / T)\n",
    "    actual_best = torch.argmax(torch.tensor([v.immunity_rate for v in MAB]))\n",
    "    \n",
    "    # Exploitation\n",
    "    vaccin = best_vaccin\n",
    "    for k in range(M):\n",
    "        reward[vaccin] += MAB[vaccin].sample(1).int().item()\n",
    "        T[vaccin] += 1\n",
    "        vaccin = torch.argmax(reward / T)\n",
    "        \n",
    "        \n",
    "    regret[i] = n*MAB[actual_best].immunity_rate - reward.sum()\n",
    "    regret_LR[i] = n*MAB[actual_best].immunity_rate\n",
    "    \n",
    "    \n",
    "    for key, vac in enumerate(MAB):\n",
    "        if (key == actual_best):\n",
    "            continue\n",
    "    \n",
    "        regret_LR[i] -= np.log(n) * ((MAB[actual_best].immunity_rate - MAB[best_vaccin].immunity_rate) / kl_loss(MAB[best_vaccin].immunity_rate, MAB[actual_best].immunity_rate))\n",
    "\n",
    "regret_moyen = regret_glouton.mean()\n",
    "regret_ecart_type = torch.std(regret_glouton)\n",
    "\n",
    "regret_moyen_LR = regret_LR.mean()\n",
    "regret_ecart_type_LR = torch.std(regret_LR)\n",
    "\n",
    "print(\"L'espérance du regret vaut : %.4f\" % regret_moyen)\n",
    "print(\"L'écart-type du regret vaut : %.4f\" % regret_ecart_type)\n",
    "\n",
    "print(\"L'espérance du regret_LR vaut : %.4f\" % regret_moyen_LR)\n",
    "print(\"L'écart-type du regret_LR vaut : %.4f\" % regret_ecart_type_LR)\n",
    "\n",
    "plt.plot(regret)\n",
    "plt.plot(regret_LR)\n",
    "\n",
    "plt.show() # affiche la figure à l'écran"
   ]
  },
  {
   "cell_type": "markdown",
   "metadata": {
    "id": "Ur74-6TRcSvd"
   },
   "source": [
    "*[Ajoutez votre commentaire ici]*"
   ]
  },
  {
   "cell_type": "markdown",
   "metadata": {
    "id": "xuLpF9RlcSvd"
   },
   "source": [
    "## I.c. Upper Confidence Bounds"
   ]
  },
  {
   "cell_type": "markdown",
   "metadata": {
    "id": "F_pvm1bFcSvd"
   },
   "source": [
    "Cet algorithme améliore la version précédente en ajoutant un biais lié à la fréquentation de chaque vaccin :\n",
    "\n",
    "$$\\hat{R}_i = \\bar{R}_i + \\sqrt{\\frac{C\\log{n}}{T_i}}$$,\n",
    "\n",
    "avec $C=2$.\n",
    "\n",
    "**Q8. Implémentez la modification de cette algorithme. Conservez les deux phases exploration/exploitation décrites ci-dessus. En prenant les valeurs de $N$ et $M$ trouvées à la question Q5, quel regret obtenez-vous ? Faites l'expérience avec au moins 10 MAB différents (tous ayant 5 vaccins) afin de calculer la moyenne et l'écart-type du regret.**"
   ]
  },
  {
   "cell_type": "code",
   "execution_count": 49,
   "metadata": {
    "id": "cu5RCndvcSvd"
   },
   "outputs": [
    {
     "name": "stdout",
     "output_type": "stream",
     "text": [
      "L'espérance du regret vaut : 53.3671\n",
      "L'écart-type du regret vaut : 12.7155\n"
     ]
    }
   ],
   "source": [
    "MAB_100 = [generate_arms(5) for i in range(100)]\n",
    "N = 46\n",
    "M = 550\n",
    "n = N + M\n",
    "\n",
    "C = 2\n",
    "\n",
    "regret = torch.zeros(100)\n",
    "\n",
    "for i, MAB in enumerate(MAB_100):\n",
    "    # Exploration\n",
    "    reward = torch.zeros(5)\n",
    "    T = torch.zeros(5)\n",
    "    for k in range(N):\n",
    "        vaccin = torch.randint(low=0, high=5, size=(1,))\n",
    "        T[vaccin] += 1\n",
    "        reward[vaccin] += MAB[vaccin].sample(1).int().item()\n",
    "\n",
    "    R_i = reward / T\n",
    "    R_hat = R_i + torch.sqrt(C * np.log(n) / T)\n",
    "    \n",
    "    best_vaccin = torch.argmax(R_hat)\n",
    "    actual_best = torch.argmax(torch.tensor([v.immunity_rate for v in MAB]))\n",
    "    \n",
    "    # Exploitation\n",
    "    vaccin = best_vaccin\n",
    "    for k in range(M):\n",
    "        reward[vaccin] += MAB[vaccin].sample(1).int().item()\n",
    "        T[vaccin] += 1\n",
    "        R_i = reward / T\n",
    "        \n",
    "        R_hat = R_i + torch.sqrt(C * np.log(n) / T)\n",
    "        vaccin = torch.argmax(R_hat)\n",
    "        \n",
    "        \n",
    "    regret[i] = n*MAB[actual_best].immunity_rate - reward.sum()\n",
    "\n",
    "regret_moyen = regret.mean()\n",
    "regret_ecart_type = torch.std(regret)\n",
    "\n",
    "print(\"L'espérance du regret vaut : %.4f\" % regret_moyen)\n",
    "print(\"L'écart-type du regret vaut : %.4f\" % regret_ecart_type)"
   ]
  },
  {
   "cell_type": "markdown",
   "metadata": {
    "id": "I9PZiBkAcSvd"
   },
   "source": [
    "*[Ajoutez votre commentaire ici]*"
   ]
  },
  {
   "cell_type": "markdown",
   "metadata": {
    "id": "fHuGCeG-cSve"
   },
   "source": [
    "**Q9. Reprenez la questions Q4 avec cette algorithme. Dans la figure de gauche, vous representerez $\\bar{R}_i$ et $\\hat{R}_i$.**"
   ]
  },
  {
   "cell_type": "code",
   "execution_count": 50,
   "metadata": {
    "id": "DwsCfF9VcSve"
   },
   "outputs": [
    {
     "data": {
      "text/plain": [
       "[<matplotlib.lines.Line2D at 0x219a0dc1d60>]"
      ]
     },
     "execution_count": 50,
     "metadata": {},
     "output_type": "execute_result"
    },
    {
     "data": {
      "image/png": "[encoded data removed]",
      "text/plain": [
       "<Figure size 1080x360 with 2 Axes>"
      ]
     },
     "metadata": {
      "needs_background": "light"
     },
     "output_type": "display_data"
    }
   ],
   "source": [
    "fig, (ax1, ax2) = plt.subplots(1, 2, figsize=(15, 5))\n",
    "\n",
    "X_axis = np.arange(5)\n",
    "\n",
    "ax1.bar(X_axis - 0.2 , R_i, 0.4, label = 'R_i')\n",
    "ax1.bar(X_axis + 0.2, R_hat, 0.4, label = 'R_hat')\n",
    "\n",
    "ax2.plot(regret)"
   ]
  },
  {
   "cell_type": "markdown",
   "metadata": {
    "id": "FQGX0BubcSve"
   },
   "source": [
    "*[Ajoutez votre commentaire ici]*"
   ]
  },
  {
   "cell_type": "markdown",
   "metadata": {
    "id": "aQEPv1r5cSve"
   },
   "source": [
    "**Q10. Reprenez la question Q5 avec cette algorithme. Concluez sur l'utilité (ou l'inutilité) de la phase d'exploration. Comparez les performances d'UCB avec celles de l'algorithme glouton.**"
   ]
  },
  {
   "cell_type": "code",
   "execution_count": null,
   "metadata": {
    "id": "eX4EqtOgcSve"
   },
   "outputs": [],
   "source": [
    "MAB_100 = [generate_arms(5) for i in range(100)]\n",
    "#N = 46\n",
    "M = 550\n",
    "n = N + M\n",
    "\n",
    "C = 2\n",
    "\n",
    "mean_regrets = []\n",
    "\n",
    "for N in range(5, 200):\n",
    "    M -= N\n",
    "    regret = torch.zeros(100)\n",
    "\n",
    "    for i, MAB in enumerate(MAB_100):\n",
    "        # Exploration\n",
    "        reward = torch.zeros(5)\n",
    "        T = torch.zeros(5)\n",
    "        for k in range(N):\n",
    "            vaccin = torch.randint(low=0, high=5, size=(1,))\n",
    "            T[vaccin] += 1\n",
    "            reward[vaccin] += MAB[vaccin].sample(1).int().item()\n",
    "\n",
    "        R_i = reward / T\n",
    "        R_hat = R_i + torch.sqrt(C * np.log(n) / T)\n",
    "\n",
    "        best_vaccin = torch.argmax(R_hat)\n",
    "        actual_best = torch.argmax(torch.tensor([v.immunity_rate for v in MAB]))\n",
    "\n",
    "        # Exploitation\n",
    "        vaccin = best_vaccin\n",
    "        for k in range(M):\n",
    "            reward[vaccin] += MAB[vaccin].sample(1).int().item()\n",
    "            T[vaccin] += 1\n",
    "            R_i = reward / T\n",
    "\n",
    "            R_hat = R_i + torch.sqrt(C * np.log(n) / T)\n",
    "            vaccin = torch.argmax(R_hat)\n",
    "\n",
    "\n",
    "        regret[i] = n*MAB[actual_best].immunity_rate - reward.sum()\n",
    "\n",
    "    regret_moyen = regret.mean()\n",
    "    mean_regrets.append(regret_moyen)\n",
    "    \n",
    "    regret_ecart_type = torch.std(regret)\n",
    "\n",
    "print(\"L'espérance du regret vaut : %.4f\" % regret_moyen)\n",
    "print(\"L'écart-type du regret vaut : %.4f\" % regret_ecart_type)\n",
    "\n",
    "y = [mean for mean, K in mean_regrets]\n",
    "x = [K for mean, K in mean_regrets]\n",
    "\n",
    "N_opti = x[torch.argmin(torch.tensor(y))]\n",
    "M_opti = 550 - N_opti\n",
    "\n",
    "print(\"N optimal = \", N_opti)\n",
    "\n",
    "#print(x)\n",
    "#print(y)\n",
    "\n",
    "plt.plot(x, y)\n",
    "\n",
    "plt.show() # affiche la figure à l'écran"
   ]
  },
  {
   "cell_type": "markdown",
   "metadata": {
    "id": "MpieExV-cSve"
   },
   "source": [
    "*[Ajoutez votre commentaire ici]*"
   ]
  },
  {
   "cell_type": "markdown",
   "metadata": {
    "id": "x-JZm_vqcSve"
   },
   "source": [
    "**Q11. Testez différentes valeurs pour $C$ et trouvez sa valeur optimale expérimentalement.**"
   ]
  },
  {
   "cell_type": "code",
   "execution_count": null,
   "metadata": {
    "id": "FDJKBGrTcSvf"
   },
   "outputs": [],
   "source": []
  },
  {
   "cell_type": "markdown",
   "metadata": {
    "id": "XDgGIfFycSvf"
   },
   "source": [
    "*[Ajoutez votre commentaire ici]*"
   ]
  },
  {
   "cell_type": "markdown",
   "metadata": {
    "id": "Mx0Zb4qKcSvf"
   },
   "source": [
    "# Echantillonnage de Thomson\n",
    "\n",
    "Cet algorithme propose de modéliser la variable aléatoire de chaque vaccin avec une loi $\\beta$ dont les paramètres $a$ et $b$ correspondent au nombre de patients que le vaccin a immunisés (resp. non immunisés).\n",
    "\n",
    "Pour chaque patient, on tire un valeur aléatoire pour la loi $\\beta$ décrivant chaque vaccin, puis on choisit le vaccin avec la plus grande valeur tirée. "
   ]
  },
  {
   "cell_type": "markdown",
   "metadata": {
    "id": "11O_WseocSvf"
   },
   "source": [
    "**Q12. Implémentez cet algorithme. Conservez les deux phases exploration/exploitation décrites ci-dessus. En prenant les valeurs de $N$ et $M$ trouvées à la question Q5, quel regret obtenez-vous ? Faites l'expérience avec au moins 10 MAB différents (tous ayant 5 vaccins) afin de calculer la moyenne et l'écart-type du regret.**"
   ]
  },
  {
   "cell_type": "code",
   "execution_count": null,
   "metadata": {
    "id": "S2RpXbtlcSvf"
   },
   "outputs": [],
   "source": []
  },
  {
   "cell_type": "markdown",
   "metadata": {
    "id": "lV356kWecSvf"
   },
   "source": [
    "*[Ajoutez votre commentaire ici]*"
   ]
  },
  {
   "cell_type": "markdown",
   "metadata": {
    "id": "eMkZfymOcSvf"
   },
   "source": [
    "**Q13. Reprenez la question Q4, mais cette fois-ci, vous representerez le taux d'immunisation empirique avec un [graphique en violon](https://en.wikipedia.org/wiki/Violin_plot) qui représente la loi beta associée à chaque vaccin.**"
   ]
  },
  {
   "cell_type": "code",
   "execution_count": null,
   "metadata": {
    "id": "LDSTZ9qccSvg"
   },
   "outputs": [],
   "source": []
  },
  {
   "cell_type": "markdown",
   "metadata": {
    "id": "KUznvnTycSvg"
   },
   "source": [
    "*[Ajoutez votre commentaire ici]*"
   ]
  },
  {
   "cell_type": "markdown",
   "metadata": {
    "id": "i1EX8a8McSvg"
   },
   "source": [
    "**Q14. Représentez son regret pour différentes tailles du training set (comme dans la Q5). Comparez le regret avec les autres algorithmes.**"
   ]
  },
  {
   "cell_type": "code",
   "execution_count": null,
   "metadata": {
    "id": "RJ8rUVoVcSvg"
   },
   "outputs": [],
   "source": []
  },
  {
   "cell_type": "markdown",
   "metadata": {
    "id": "ePw7ysJ7cSvg"
   },
   "source": [
    "*[Ajoutez votre commentaire ici]*"
   ]
  },
  {
   "cell_type": "markdown",
   "metadata": {
    "id": "pqX3V4R3cSvh"
   },
   "source": [
    "# Conclusion\n",
    "\n",
    "**Q15. Calculez le regret des algorithmes glouton, UCB & Thomson lorsqu'il y a un grand nombre de vaccins disponibles (K=100) (on prendra N=100). Faites le lien avec la [malédiction de la dimension](https://fr.wikipedia.org/wiki/Fl%C3%A9au_de_la_dimension).**"
   ]
  },
  {
   "cell_type": "code",
   "execution_count": null,
   "metadata": {
    "id": "01cRsuVqcSvh"
   },
   "outputs": [],
   "source": []
  },
  {
   "cell_type": "markdown",
   "metadata": {
    "id": "HC-AxLOOcSvh"
   },
   "source": [
    "*[Ajoutez votre commentaire ici]*"
   ]
  }
 ],
 "metadata": {
  "colab": {
   "provenance": []
  },
  "kernelspec": {
   "display_name": "Python 3 (ipykernel)",
   "language": "python",
   "name": "python3"
  },
  "language_info": {
   "codemirror_mode": {
    "name": "ipython",
    "version": 3
   },
   "file_extension": ".py",
   "mimetype": "text/x-python",
   "name": "python",
   "nbconvert_exporter": "python",
   "pygments_lexer": "ipython3",
   "version": "3.9.7"
  }
 },
 "nbformat": 4,
 "nbformat_minor": 1
}
