{
 "cells": [
  {
   "cell_type": "markdown",
   "metadata": {
    "tags": []
   },
   "source": [
    "# Introduction à l'apprentissage par renforcement\n",
    "# TP 1 - les manchots multi-bras\n",
    "\n",
    "Etudiant·e : AJOUTER VOTRE NOM ICI\n",
    "\n",
    "1/4 de la note finale est liée à la mise en forme : \n",
    "\n",
    "* pensez à nettoyer les outputs inutiles (installation, messages de débuggage, ...)\n",
    "* soignez vos figures : les axes sont-ils faciles à comprendre ? L'échelle est adaptée ? \n",
    "* commentez vos résultats : vous attendiez-vous à les avoir ? Est-ce étonnant ? Faites le lien avec la théorie.\n",
    "\n",
    "Ce TP reprend l'exemple d'un médecin et de ses vaccins. Vous allez comparer plusieurs stratégies et trouver celle optimale.\n",
    "Un TP se fait en groupe de 2 à 4. Aucun groupe de plus de 4 personnes. \n",
    "\n",
    "Vous allez rendre le TP dans une archive ZIP. L'archive ZIP contient ce notebook au format `ipynb`, mais aussi exporté en PDF & HTML. \n",
    "L'archive ZIP doit aussi contenir un fichier txt appelé `groupe.txt` sous le format:\n",
    "\n",
    "```\n",
    "Nom1, Prenom1, Email1, NumEtudiant1\n",
    "Nom2, Prenom2, Email2, NumEtudiant2\n",
    "Nom3, Prenom3, Email3, NumEtudiant3\n",
    "Nom4, Prenom4, Email4, NumEtudiant4\n",
    "```\n",
    "\n",
    "Un script vient extraire vos réponses : ne changez pas l'ordre des cellules et soyez sûrs que les graphes sont bien présents dans la version notebook soumise. "
   ]
  },
  {
   "cell_type": "code",
   "execution_count": 1,
   "metadata": {},
   "outputs": [
    {
     "name": "stdout",
     "output_type": "stream",
     "text": [
      "Requirement already satisfied: matplotlib in /Library/Frameworks/Python.framework/Versions/3.9/lib/python3.9/site-packages (3.4.2)\n",
      "Requirement already satisfied: tqdm in /Library/Frameworks/Python.framework/Versions/3.9/lib/python3.9/site-packages (4.64.1)\n",
      "Requirement already satisfied: numpy in /Library/Frameworks/Python.framework/Versions/3.9/lib/python3.9/site-packages (1.22.3)\n",
      "Requirement already satisfied: ipympl in /Library/Frameworks/Python.framework/Versions/3.9/lib/python3.9/site-packages (0.9.2)\n",
      "Requirement already satisfied: opencv-python in /Library/Frameworks/Python.framework/Versions/3.9/lib/python3.9/site-packages (4.6.0.66)\n",
      "Requirement already satisfied: kiwisolver>=1.0.1 in /Library/Frameworks/Python.framework/Versions/3.9/lib/python3.9/site-packages (from matplotlib) (1.3.1)\n",
      "Requirement already satisfied: pyparsing>=2.2.1 in /Library/Frameworks/Python.framework/Versions/3.9/lib/python3.9/site-packages (from matplotlib) (2.4.7)\n",
      "Requirement already satisfied: cycler>=0.10 in /Library/Frameworks/Python.framework/Versions/3.9/lib/python3.9/site-packages (from matplotlib) (0.10.0)\n",
      "Requirement already satisfied: python-dateutil>=2.7 in /Library/Frameworks/Python.framework/Versions/3.9/lib/python3.9/site-packages (from matplotlib) (2.8.1)\n",
      "Requirement already satisfied: pillow>=6.2.0 in /Library/Frameworks/Python.framework/Versions/3.9/lib/python3.9/site-packages (from matplotlib) (9.1.1)\n",
      "Requirement already satisfied: ipython<9 in /Library/Frameworks/Python.framework/Versions/3.9/lib/python3.9/site-packages (from ipympl) (8.0.1)\n",
      "Requirement already satisfied: ipython-genutils in /Library/Frameworks/Python.framework/Versions/3.9/lib/python3.9/site-packages (from ipympl) (0.2.0)\n",
      "Requirement already satisfied: traitlets<6 in /Library/Frameworks/Python.framework/Versions/3.9/lib/python3.9/site-packages (from ipympl) (5.1.1)\n",
      "Requirement already satisfied: ipywidgets<9,>=7.6.0 in /Library/Frameworks/Python.framework/Versions/3.9/lib/python3.9/site-packages (from ipympl) (8.0.2)\n",
      "Requirement already satisfied: six in /Library/Frameworks/Python.framework/Versions/3.9/lib/python3.9/site-packages (from cycler>=0.10->matplotlib) (1.16.0)\n",
      "Requirement already satisfied: black in /Library/Frameworks/Python.framework/Versions/3.9/lib/python3.9/site-packages (from ipython<9->ipympl) (22.1.0)\n",
      "Requirement already satisfied: backcall in /Library/Frameworks/Python.framework/Versions/3.9/lib/python3.9/site-packages (from ipython<9->ipympl) (0.2.0)\n",
      "Requirement already satisfied: pexpect>4.3 in /Library/Frameworks/Python.framework/Versions/3.9/lib/python3.9/site-packages (from ipython<9->ipympl) (4.8.0)\n",
      "Requirement already satisfied: setuptools>=18.5 in /Library/Frameworks/Python.framework/Versions/3.9/lib/python3.9/site-packages (from ipython<9->ipympl) (56.0.0)\n",
      "Requirement already satisfied: stack-data in /Library/Frameworks/Python.framework/Versions/3.9/lib/python3.9/site-packages (from ipython<9->ipympl) (0.2.0)\n",
      "Requirement already satisfied: matplotlib-inline in /Library/Frameworks/Python.framework/Versions/3.9/lib/python3.9/site-packages (from ipython<9->ipympl) (0.1.3)\n",
      "Requirement already satisfied: appnope in /Library/Frameworks/Python.framework/Versions/3.9/lib/python3.9/site-packages (from ipython<9->ipympl) (0.1.2)\n",
      "Requirement already satisfied: prompt-toolkit!=3.0.0,!=3.0.1,<3.1.0,>=2.0.0 in /Library/Frameworks/Python.framework/Versions/3.9/lib/python3.9/site-packages (from ipython<9->ipympl) (3.0.22)\n",
      "Requirement already satisfied: jedi>=0.16 in /Library/Frameworks/Python.framework/Versions/3.9/lib/python3.9/site-packages (from ipython<9->ipympl) (0.18.1)\n",
      "Requirement already satisfied: pickleshare in /Library/Frameworks/Python.framework/Versions/3.9/lib/python3.9/site-packages (from ipython<9->ipympl) (0.7.5)\n",
      "Requirement already satisfied: pygments in /Library/Frameworks/Python.framework/Versions/3.9/lib/python3.9/site-packages (from ipython<9->ipympl) (2.11.2)\n",
      "Requirement already satisfied: decorator in /Library/Frameworks/Python.framework/Versions/3.9/lib/python3.9/site-packages (from ipython<9->ipympl) (4.4.2)\n",
      "Requirement already satisfied: jupyterlab-widgets~=3.0 in /Library/Frameworks/Python.framework/Versions/3.9/lib/python3.9/site-packages (from ipywidgets<9,>=7.6.0->ipympl) (3.0.3)\n",
      "Requirement already satisfied: ipykernel>=4.5.1 in /Library/Frameworks/Python.framework/Versions/3.9/lib/python3.9/site-packages (from ipywidgets<9,>=7.6.0->ipympl) (6.9.1)\n",
      "Requirement already satisfied: widgetsnbextension~=4.0 in /Library/Frameworks/Python.framework/Versions/3.9/lib/python3.9/site-packages (from ipywidgets<9,>=7.6.0->ipympl) (4.0.3)\n",
      "Requirement already satisfied: tornado<7.0,>=4.2 in /Library/Frameworks/Python.framework/Versions/3.9/lib/python3.9/site-packages (from ipykernel>=4.5.1->ipywidgets<9,>=7.6.0->ipympl) (6.1)\n",
      "Requirement already satisfied: jupyter-client<8.0 in /Library/Frameworks/Python.framework/Versions/3.9/lib/python3.9/site-packages (from ipykernel>=4.5.1->ipywidgets<9,>=7.6.0->ipympl) (7.1.2)\n",
      "Requirement already satisfied: nest-asyncio in /Library/Frameworks/Python.framework/Versions/3.9/lib/python3.9/site-packages (from ipykernel>=4.5.1->ipywidgets<9,>=7.6.0->ipympl) (1.5.4)\n",
      "Requirement already satisfied: debugpy<2.0,>=1.0.0 in /Library/Frameworks/Python.framework/Versions/3.9/lib/python3.9/site-packages (from ipykernel>=4.5.1->ipywidgets<9,>=7.6.0->ipympl) (1.5.1)\n",
      "Requirement already satisfied: parso<0.9.0,>=0.8.0 in /Library/Frameworks/Python.framework/Versions/3.9/lib/python3.9/site-packages (from jedi>=0.16->ipython<9->ipympl) (0.8.3)\n",
      "Requirement already satisfied: ptyprocess>=0.5 in /Library/Frameworks/Python.framework/Versions/3.9/lib/python3.9/site-packages (from pexpect>4.3->ipython<9->ipympl) (0.7.0)\n",
      "Requirement already satisfied: wcwidth in /Library/Frameworks/Python.framework/Versions/3.9/lib/python3.9/site-packages (from prompt-toolkit!=3.0.0,!=3.0.1,<3.1.0,>=2.0.0->ipython<9->ipympl) (0.2.5)\n",
      "Requirement already satisfied: click>=8.0.0 in /Library/Frameworks/Python.framework/Versions/3.9/lib/python3.9/site-packages (from black->ipython<9->ipympl) (8.0.3)\n",
      "Requirement already satisfied: pathspec>=0.9.0 in /Library/Frameworks/Python.framework/Versions/3.9/lib/python3.9/site-packages (from black->ipython<9->ipympl) (0.9.0)\n",
      "Requirement already satisfied: mypy-extensions>=0.4.3 in /Library/Frameworks/Python.framework/Versions/3.9/lib/python3.9/site-packages (from black->ipython<9->ipympl) (0.4.3)\n",
      "Requirement already satisfied: typing-extensions>=3.10.0.0 in /Library/Frameworks/Python.framework/Versions/3.9/lib/python3.9/site-packages (from black->ipython<9->ipympl) (4.1.1)\n",
      "Requirement already satisfied: tomli>=1.1.0 in /Library/Frameworks/Python.framework/Versions/3.9/lib/python3.9/site-packages (from black->ipython<9->ipympl) (2.0.1)\n",
      "Requirement already satisfied: platformdirs>=2 in /Library/Frameworks/Python.framework/Versions/3.9/lib/python3.9/site-packages (from black->ipython<9->ipympl) (2.5.0)\n",
      "Requirement already satisfied: executing in /Library/Frameworks/Python.framework/Versions/3.9/lib/python3.9/site-packages (from stack-data->ipython<9->ipympl) (0.8.2)\n",
      "Requirement already satisfied: asttokens in /Library/Frameworks/Python.framework/Versions/3.9/lib/python3.9/site-packages (from stack-data->ipython<9->ipympl) (2.0.5)\n",
      "Requirement already satisfied: pure-eval in /Library/Frameworks/Python.framework/Versions/3.9/lib/python3.9/site-packages (from stack-data->ipython<9->ipympl) (0.2.2)\n",
      "Requirement already satisfied: pyzmq>=13 in /Library/Frameworks/Python.framework/Versions/3.9/lib/python3.9/site-packages (from jupyter-client<8.0->ipykernel>=4.5.1->ipywidgets<9,>=7.6.0->ipympl) (22.3.0)\n",
      "Requirement already satisfied: entrypoints in /Library/Frameworks/Python.framework/Versions/3.9/lib/python3.9/site-packages (from jupyter-client<8.0->ipykernel>=4.5.1->ipywidgets<9,>=7.6.0->ipympl) (0.4)\n",
      "Requirement already satisfied: jupyter-core>=4.6.0 in /Library/Frameworks/Python.framework/Versions/3.9/lib/python3.9/site-packages (from jupyter-client<8.0->ipykernel>=4.5.1->ipywidgets<9,>=7.6.0->ipympl) (4.9.2)\n",
      "Building jupyterlab assets (production, minimized)\n",
      "Building jupyterlab assets (production, minimized)\n"
     ]
    }
   ],
   "source": [
    "! pip install matplotlib tqdm numpy ipympl opencv-python\n",
    "!jupyter labextension install @jupyter-widgets/jupyterlab-manager\n",
    "!jupyter labextension install jupyter-matplotlib"
   ]
  },
  {
   "cell_type": "code",
   "execution_count": 2,
   "metadata": {},
   "outputs": [],
   "source": [
    "%load_ext autoreload\n",
    "%autoreload 2\n",
    "%matplotlib inline \n",
    "\n",
    "import typing as t\n",
    "import math\n",
    "import torch\n",
    "import numpy as np\n",
    "from tqdm.auto import trange, tqdm\n",
    "import matplotlib.pyplot as plt\n",
    "from matplotlib.animation import FuncAnimation\n",
    "import matplotlib.animation as animation\n",
    "from matplotlib.backends.backend_agg import FigureCanvasAgg as FigureCanvas\n",
    "import cv2\n",
    "from IPython.display import display, clear_output\n",
    "\n",
    "torch.random.manual_seed(0)\n",
    "\n",
    "K = 5 # num arms"
   ]
  },
  {
   "cell_type": "markdown",
   "metadata": {},
   "source": [
    "# Présentation du problème"
   ]
  },
  {
   "cell_type": "code",
   "execution_count": 133,
   "metadata": {},
   "outputs": [],
   "source": [
    "class ArmBernoulli:\n",
    "    def __init__(self, p: float, random_state: t.Optional[int] = None):\n",
    "        \"\"\"\n",
    "        Vaccine treatment following a Bernoulli law (mean is p and variance is p(1-p)\n",
    "        Args:\n",
    "             p (float): mean parameter\n",
    "             random_state (int): seed to make experiments reproducible\n",
    "             \n",
    "        >>> arm = ArmBernoulli(0.5, 0)\n",
    "        >>> arm.sample(5)\n",
    "        tensor([ True, False,  True,  True,  True])\n",
    "        \"\"\"\n",
    "        if random_state is not None:\n",
    "            torch.random.manual_seed(random_state)\n",
    "        self.immunity_rate = p\n",
    "\n",
    "    def sample(self, n: int = 1):\n",
    "        return torch.rand(n) < self.immunity_rate\n",
    "    \n",
    "    def __repr__(self):\n",
    "        return f'<ArmBernoulli p={self.immunity_rate}' \n",
    "\n",
    "def generate_arms(num_arms: int):\n",
    "    means = torch.rand(num_arms)\n",
    "    MAB = [ArmBernoulli(m) for m in means]\n",
    "    assert MAB[0].immunity_rate == means[0]\n",
    "    assert (MAB[0].sample(10) <= 1).all() and (MAB[0].sample(10) >= 0).all() \n",
    "    return MAB\n",
    "\n",
    "MAB = generate_arms(K)"
   ]
  },
  {
   "cell_type": "markdown",
   "metadata": {},
   "source": [
    "**Note importante :** pour la suite, les tests seront faits avec 10 MAB différents ou plus pour réduire le bruit de simulation. \n",
    "\n",
    "Ce TP reprend l'exemple du médecin présenté en cours.\n",
    "\n",
    "\n",
    "**Q1. Que vaut $\\mu^*$ avec `random_state = 0`? Comment est définie la récompense $R_k$ ? Que représente concrètement le regret dans cet exemple ?**"
   ]
  },
  {
   "cell_type": "code",
   "execution_count": 322,
   "metadata": {},
   "outputs": [],
   "source": [
    "import random\n",
    "\n",
    "def get_index_patients(patients_list: list[int], vaccin: int):\n",
    "    indexes = []\n",
    "    for index, value in enumerate(patients_list):\n",
    "        if (value == vaccin):\n",
    "            indexes.append(index) \n",
    "    return indexes\n",
    "\n",
    "class Simulation:\n",
    "    def __init__(self, N: int, M: int, nbr_vaccins: int):\n",
    "        \"\"\"\n",
    "        \"\"\"\n",
    "        self.N = N\n",
    "        self.M = M\n",
    "        self.nbr_vaccins = nbr_vaccins\n",
    "        self.vaccins_list = generate_arms(nbr_vaccins)\n",
    "        self.patients_list_of_vaccins = self.get_patients_list_of_vaccins()\n",
    "        self.mu_star = self.get_mu_star()\n",
    "        self.patients_immunity = self.get_patients_immunity()\n",
    "        self.sum_R_k = self.get_sum_R_k()\n",
    "        \n",
    "\n",
    "    def get_patients_list_of_vaccins(self):\n",
    "        list_patient = [\n",
    "            random.randint(1,self.nbr_vaccins) if i < self.N\n",
    "            else 0\n",
    "            for i in range(self.N + self.M)\n",
    "        ]\n",
    "        return list_patient\n",
    "    \n",
    "    def get_mu_star(self):\n",
    "        mu_tensor = [vaccin.immunity_rate for vaccin in self.vaccins_list]\n",
    "        mu_list = [i.item() for i in mu_tensor]\n",
    "        return max(mu_list)\n",
    "    \n",
    "    def get_patients_immunity(self):\n",
    "        vaccin_use = self.get_vaccin_use()\n",
    "        patients_immunity = [0 for patient in self.patients_list_of_vaccins]\n",
    "        \n",
    "        for index, vaccin in enumerate(self.vaccins_list):\n",
    "            samples = vaccin.sample(vaccin_use[index]).int()\n",
    "            samples = samples.tolist()\n",
    "            all_patients = get_index_patients(self.patients_list_of_vaccins, index+1)  \n",
    "            for s, index in zip(samples, all_patients):\n",
    "                patients_immunity[index] = s\n",
    "          \n",
    "        return patients_immunity\n",
    "    \n",
    "    def get_sum_R_k(self):\n",
    "        return sum(self.patients_immunity)\n",
    "    \n",
    "    def get_vaccin_use(self):\n",
    "        vaccin_use = [0 for i in range(self.nbr_vaccins)]\n",
    "        for patient in self.patients_list_of_vaccins:\n",
    "            if patient >0:\n",
    "                vaccin_use[patient-1]+=1\n",
    "        return vaccin_use\n",
    "    \n",
    "    def get_reward_vaccin(self, vaccin_index):\n",
    "        reward = 0\n",
    "        for patient_vaccin, immunity in zip(self.patients_list_of_vaccins, self.patients_immunity):\n",
    "            if (patient_vaccin == vaccin_index and immunity):\n",
    "                reward+=1\n",
    "        return reward\n",
    "    \n",
    "    def get_immunization_rate(self):\n",
    "        vaccin_use = self.get_vaccin_use()\n",
    "        immunization_rate = [\n",
    "            0 if vaccin_use[index] == 0\n",
    "            else \n",
    "            1/vaccin_use[index]*self.get_reward_vaccin(index+1) \n",
    "            for index, vaccin in enumerate(self.vaccins_list)\n",
    "        ]\n",
    "        return immunization_rate\n",
    "    \n",
    "    def get_vaccin_with_best_rate(self):\n",
    "        rates = self.get_immunization_rate()\n",
    "        best_rate = max(rates)\n",
    "        return rates.index(best_rate)+1\n",
    "    \n",
    "    def update_exploration(self):\n",
    "        vaccin = self.get_vaccin_with_best_rate()\n",
    "        self.patients_list_of_vaccins = [\n",
    "            patient if index < self.N\n",
    "            else vaccin\n",
    "            for patient, index in zip(self.patients_list_of_vaccins, range(self.N + self.M))\n",
    "        ]\n",
    "        self.update_immunity()\n",
    "        return self\n",
    "        \n",
    "    def update_immunity(self):\n",
    "        self.patients_immunity = self.get_patients_immunity()\n",
    "        self.sum_R_k = self.get_sum_R_k()\n",
    "        return self.patients_immunity\n",
    "    \n",
    "    \n",
    "#s = Simulation(5, 5, 5)\n",
    "#print(s.patients_immunity)\n",
    "#print(s.get_immunization_rate())\n",
    "#print(s.get_vaccin_with_best_rate())\n",
    "#print(s.update_exploration())\n",
    "#print(s.update_immunity())\n",
    "\n",
    "def get_regret(simulation: Simulation):\n",
    "    \"\"\"      \n",
    "    \"\"\"     \n",
    "    return (simulation.N+simulation.M) * simulation.mu_star - simulation.sum_R_k\n",
    "    \n",
    "#get_regret(s)"
   ]
  },
  {
   "cell_type": "markdown",
   "metadata": {},
   "source": [
    "La récompense $R_k$ de chaque bras de la simulation est définie comme une distribution de Bernouilli de paramètre $\\mu_k$. Ainsi la moyenne $\\hat{\\mu}_k$ de chaque bras est égale à l'espérance de la distribution de Bernouilli de paramètre $\\mu_k$, elle est donc égale au paramètre $p=\\mu_k$.\n",
    "\n",
    "Ainsi, $\\mu^*$ qui correspond à la récompense moyenne du meilleur vaccin $i$, correspond donc à $max(\\mu_k)$ et la récompense $R_k$ est équivalente à $R_k=B(p=\\mu_k)$.\n",
    "\n",
    "Concrétement, le regret correspond à: $r_N=N\\mu^*-\\sum\\limits _{k=0} ^{N-1}R_k$.\n",
    "Il s'agit donc de l'écart entre N fois la moyenne et tout les patient immunisé. Il s'agit donc de l'écart entre le nombre de patient immunisé s'ils avaient pris le meilleur vaccin $i$ et le nombre de patient immunisé dans la simulation."
   ]
  },
  {
   "cell_type": "markdown",
   "metadata": {},
   "source": [
    "# I. Cas classique des bandits manchots "
   ]
  },
  {
   "cell_type": "markdown",
   "metadata": {
    "tags": []
   },
   "source": [
    "## I.a. Solution Gloutonne"
   ]
  },
  {
   "cell_type": "markdown",
   "metadata": {},
   "source": [
    "Le médecin fonctionne sur deux phases :\n",
    "\n",
    "1. **Exploration :** N patients reçoivent une dose d'un vaccin choisi aléatoirement. Le médecin calcule le taux d'immunisation empirique :\n",
    "\n",
    "$$\\bar{R_i} = \\frac{1}{T_i} \\sum_{k=0}^{N-1} \\chi_{v_k,i}R_k,$$\n",
    "\n",
    "avec $T_i = \\sum_{k=0}^{N-1} \\chi_{v_k,i}$.\n",
    "\n",
    "\n",
    "2. **Exploitation :** Le vaccin $v_i = \\arg\\max_j \\bar{R_j}$ est utilisé pour les M patients suivants. C'est la phase de test.\n",
    "\n",
    "**Q2. Implémentez la solution gloutonne avec N = 50 et M = 500 et testez la avec 100 MAB différents (tous ont 5 vaccins). On s'intéresse à la variable aléatoire \"la phase d'exploration a trouvé le bon vaccin\". Quelle est l'espérance empirique de cette variable ? Et son écart-type ? Calculez de même l'espérance et l'écart-type du regret sur vos 100 simulations.**\n",
    "\n",
    "Pour rappel, le regret est défini par :\n",
    "\n",
    "$$r_n = n\\mu^* - \\sum_{k=0}^{n-1} R_k$$\n",
    "\n",
    "**Attention :** $n$ est le nombre total de patients, donc ici $N + M$."
   ]
  },
  {
   "cell_type": "code",
   "execution_count": 323,
   "metadata": {},
   "outputs": [],
   "source": [
    "simulations = [Simulation(50, 500, 5) for i in range(100)]\n",
    "for simulation in simulations:\n",
    "    simulation.update_exploration()\n",
    "    \n",
    "#exploration à trouvé le bon vaccin\n",
    "#calculé espérance et écart type\n",
    "# + espérance et écart type du regret"
   ]
  },
  {
   "cell_type": "markdown",
   "metadata": {},
   "source": [
    "**Q3. On propose d'améliorer l'algorithme précédant en mettant à jour les taux d'immunisation empiriques $\\bar{R}_i$ pendant la d'exploration. Notez vous une amélioration du regret ? Proposez un exemple dans lequel cette mise à jour ne changera rien.** "
   ]
  },
  {
   "cell_type": "markdown",
   "metadata": {},
   "source": [
    "*[Ajoutez votre commentaire ici]*"
   ]
  },
  {
   "cell_type": "markdown",
   "metadata": {},
   "source": [
    "**Q4. Créez une figure contenant deux sous-figures : à gauche, le taux d'immunisation empirique $\\bar{R}_i$ pour les 5 vaccins ; à droite, le regret $r_n$. La figure sera animée avec les patients : chaque frame $k$ de l'animation représente le vaccin que l'on donne au $k$-ième patient.**"
   ]
  },
  {
   "cell_type": "code",
   "execution_count": null,
   "metadata": {},
   "outputs": [],
   "source": [
    "#left Ri for each vaccin depending on k\n",
    "#regret\n",
    "\n",
    "#k frame\n",
    "\n",
    "##import numpy as np\n",
    "##import matplotlib.pyplot as plt\n",
    "##color = ['red', 'green', 'blue', 'orange']\n",
    "##fig = plt.figure()\n",
    "##plt.xticks(rotation=45, ha=\"right\", rotation_mode=\"anchor\") #rotate the x-axis values\n",
    "##plt.subplots_adjust(bottom = 0.2, top = 0.9) #ensuring the dates (on the x-axis) fit in the screen\n",
    "##plt.ylabel('No of Deaths')\n",
    "##plt.xlabel('Dates')\n",
    "\n",
    "\n",
    "##def buildmebarchart(i=int):\n",
    "##    plt.legend(df1.columns)\n",
    "##    p = plt.plot(df1[:i].index, df1[:i].values) #note it only returns the dataset, up to the point i\n",
    "##    for i in range(0,4):\n",
    "##        p[i].set_color(color[i]) #set the colour of each curve\n",
    "##import matplotlib.animation as ani\n",
    "##animator = ani.FuncAnimation(fig, buildmebarchart, interval = 100)\n",
    "##plt.show()"
   ]
  },
  {
   "cell_type": "markdown",
   "metadata": {},
   "source": [
    "*[Ajoutez votre commentaire ici]*"
   ]
  },
  {
   "cell_type": "markdown",
   "metadata": {},
   "source": [
    "**Q5. On étudie maintenant l'influence de la taille du training set $N$. On considère que N+M est une constante, puis on fait varier N entre K et M. Calculez le regret pour ces différentes tailles du training set  différents MAB et representez le regret moyen, le regret min et max (vous devriez trouver une courbe en U ou en V pour le regret moyen). Quelle est la taille optimale du training set ?**"
   ]
  },
  {
   "cell_type": "code",
   "execution_count": 327,
   "metadata": {},
   "outputs": [
    {
     "data": {
      "text/plain": [
       "[<matplotlib.lines.Line2D at 0x7fb93e80a520>]"
      ]
     },
     "execution_count": 327,
     "metadata": {},
     "output_type": "execute_result"
    },
    {
     "data": {
      "image/png": "[encoded data removed]",
      "text/plain": [
       "<Figure size 432x288 with 1 Axes>"
      ]
     },
     "metadata": {
      "needs_background": "light"
     },
     "output_type": "display_data"
    }
   ],
   "source": [
    "import numpy as np\n",
    "import matplotlib.pyplot as plt\n",
    "\n",
    "#suppose M+N = 600\n",
    "# N varie de 50 550\n",
    "# M varie de 550 à 50\n",
    "multiverse = []\n",
    "for K in range (50, 555, 5):\n",
    "    N = K\n",
    "    M = 600 - K\n",
    "    simulations = [Simulation(N, M, 5) for i in range(10)]\n",
    "    simulations = [simulation.update_exploration() for simulation in simulations]\n",
    "    regrets = [get_regret(simulation) for simulation in simulations]\n",
    "    multiverse.append((regrets, K))\n",
    "\n",
    "mean_regrets = [(sum(regrets)/len(regrets), K) for regrets, K in multiverse]\n",
    "#min_regrets = [(min(regrets), K) for regrets, K in multiverse]\n",
    "#max_regrets = [(max(regrets), K) for regrets, K in multiverse]\n",
    "    \n",
    "#print(mean_regrets)\n",
    "\n",
    "x = [mean for mean, K in mean_regrets]\n",
    "y = [K for mean, K in mean_regrets]\n",
    "\n",
    "#print(x)\n",
    "#print(y)\n",
    "\n",
    "plt.plot(y, x)\n",
    "\n",
    "#plt.show() # affiche la figure à l'écran\n"
   ]
  },
  {
   "cell_type": "markdown",
   "metadata": {},
   "source": [
    "*[Ajoutez votre commentaire ici]*"
   ]
  },
  {
   "cell_type": "markdown",
   "metadata": {
    "tags": []
   },
   "source": [
    "## I.b. Borne inférieure de Lai & Robbins [Lai et Robbins, 1985]"
   ]
  },
  {
   "cell_type": "markdown",
   "metadata": {},
   "source": [
    "Pour un modèle de manchot de Bernoulli (équivalent au problème étudié), la borne inférieure de Lai et Robbins [Lai et Robbins, 1985] stipule que :\n",
    "\n",
    "$$\\lim \\inf_{n\\rightarrow \\infty} \\frac{\\sum_{k=0}^{n-1} R_k}{\\log n} \\geq \\sum_{i~\\text{tel que}~\\mu_i \\lt \\mu^*} \\frac{\\mu^∗−\\mu_i}{\\text{KL}(\\mu_i, \\mu^*)}  :=C(\\mu)$$\n",
    " \n",
    " avec $\\text{KL}(x, y) = x \\log(x/y) + (1 − x) \\log((1 − x)/(1 − y))$ (distance de Kullback-Leibler) et  $\\sum_{k=0}^{n-1} R_k$ la récompense obtenue sur $n$ patients (avec un algorithme optimal). \n",
    " \n",
    " \n",
    "**Q6. Justifiez pourquoi cette borne signifie que la machine optimale est jouée exponentiellement plus souvent que les autres machines.**"
   ]
  },
  {
   "cell_type": "markdown",
   "metadata": {},
   "source": [
    "*[Ajoutez votre commentaire ici]*"
   ]
  },
  {
   "cell_type": "markdown",
   "metadata": {},
   "source": [
    "**Q7. Tracez le regret issu de la borne de Lai & Robbins et comparez le au regret obtenu avec l'algorithme glouton.**"
   ]
  },
  {
   "cell_type": "code",
   "execution_count": null,
   "metadata": {},
   "outputs": [],
   "source": []
  },
  {
   "cell_type": "markdown",
   "metadata": {},
   "source": [
    "*[Ajoutez votre commentaire ici]*"
   ]
  },
  {
   "cell_type": "markdown",
   "metadata": {},
   "source": [
    "## I.c. Upper Confidence Bounds"
   ]
  },
  {
   "cell_type": "markdown",
   "metadata": {},
   "source": [
    "Cet algorithme améliore la version précédente en ajoutant un biais lié à la fréquentation de chaque vaccin :\n",
    "\n",
    "$$\\hat{R}_i = \\bar{R}_i + \\sqrt{\\frac{C\\log{n}}{T_i}}$$,\n",
    "\n",
    "avec $C=2$.\n",
    "\n",
    "**Q8. Implémentez la modification de cette algorithme. Conservez les deux phases exploration/exploitation décrites ci-dessus. En prenant les valeurs de $N$ et $M$ trouvées à la question Q5, quel regret obtenez-vous ? Faites l'expérience avec au moins 10 MAB différents (tous ayant 5 vaccins) afin de calculer la moyenne et l'écart-type du regret.**"
   ]
  },
  {
   "cell_type": "code",
   "execution_count": null,
   "metadata": {},
   "outputs": [],
   "source": []
  },
  {
   "cell_type": "markdown",
   "metadata": {},
   "source": [
    "*[Ajoutez votre commentaire ici]*"
   ]
  },
  {
   "cell_type": "markdown",
   "metadata": {},
   "source": [
    "**Q9. Reprenez la questions Q4 avec cette algorithme. Dans la figure de gauche, vous representerez $\\bar{R}_i$ et $\\hat{R}_i$.**"
   ]
  },
  {
   "cell_type": "code",
   "execution_count": null,
   "metadata": {},
   "outputs": [],
   "source": []
  },
  {
   "cell_type": "markdown",
   "metadata": {},
   "source": [
    "*[Ajoutez votre commentaire ici]*"
   ]
  },
  {
   "cell_type": "markdown",
   "metadata": {},
   "source": [
    "**Q10. Reprenez la question Q5 avec cette algorithme. Concluez sur l'utilité (ou l'inutilité) de la phase d'exploration. Comparez les performances d'UCB avec celles de l'algorithme glouton.**"
   ]
  },
  {
   "cell_type": "code",
   "execution_count": null,
   "metadata": {},
   "outputs": [],
   "source": []
  },
  {
   "cell_type": "markdown",
   "metadata": {},
   "source": [
    "*[Ajoutez votre commentaire ici]*"
   ]
  },
  {
   "cell_type": "markdown",
   "metadata": {},
   "source": [
    "**Q11. Testez différentes valeurs pour $C$ et trouvez sa valeur optimale expérimentalement.**"
   ]
  },
  {
   "cell_type": "code",
   "execution_count": null,
   "metadata": {},
   "outputs": [],
   "source": []
  },
  {
   "cell_type": "markdown",
   "metadata": {},
   "source": [
    "*[Ajoutez votre commentaire ici]*"
   ]
  },
  {
   "cell_type": "markdown",
   "metadata": {},
   "source": [
    "# Echantillonnage de Thomson\n",
    "\n",
    "Cet algorithme propose de modéliser la variable aléatoire de chaque vaccin avec une loi $\\beta$ dont les paramètres $a$ et $b$ correspondent au nombre de patients que le vaccin a immunisés (resp. non immunisés).\n",
    "\n",
    "Pour chaque patient, on tire un valeur aléatoire pour la loi $\\beta$ décrivant chaque vaccin, puis on choisit le vaccin avec la plus grande valeur tirée. "
   ]
  },
  {
   "cell_type": "markdown",
   "metadata": {},
   "source": [
    "**Q12. Implémentez cet algorithme. Conservez les deux phases exploration/exploitation décrites ci-dessus. En prenant les valeurs de $N$ et $M$ trouvées à la question Q5, quel regret obtenez-vous ? Faites l'expérience avec au moins 10 MAB différents (tous ayant 5 vaccins) afin de calculer la moyenne et l'écart-type du regret.**"
   ]
  },
  {
   "cell_type": "code",
   "execution_count": null,
   "metadata": {},
   "outputs": [],
   "source": []
  },
  {
   "cell_type": "markdown",
   "metadata": {},
   "source": [
    "*[Ajoutez votre commentaire ici]*"
   ]
  },
  {
   "cell_type": "markdown",
   "metadata": {},
   "source": [
    "**Q13. Reprenez la question Q4, mais cette fois-ci, vous representerez le taux d'immunisation empirique avec un [graphique en violon](https://en.wikipedia.org/wiki/Violin_plot) qui représente la loi beta associée à chaque vaccin.**"
   ]
  },
  {
   "cell_type": "code",
   "execution_count": null,
   "metadata": {},
   "outputs": [],
   "source": []
  },
  {
   "cell_type": "markdown",
   "metadata": {},
   "source": [
    "*[Ajoutez votre commentaire ici]*"
   ]
  },
  {
   "cell_type": "markdown",
   "metadata": {},
   "source": [
    "**Q14. Représentez son regret pour différentes tailles du training set (comme dans la Q5). Comparez le regret avec les autres algorithmes.**"
   ]
  },
  {
   "cell_type": "code",
   "execution_count": null,
   "metadata": {},
   "outputs": [],
   "source": []
  },
  {
   "cell_type": "markdown",
   "metadata": {},
   "source": [
    "*[Ajoutez votre commentaire ici]*"
   ]
  },
  {
   "cell_type": "markdown",
   "metadata": {},
   "source": [
    "# Conclusion\n",
    "\n",
    "**Q15. Calculez le regret des algorithmes glouton, UCB & Thomson lorsqu'il y a un grand nombre de vaccins disponibles (K=100) (on prendra N=100). Faites le lien avec la [malédiction de la dimension](https://fr.wikipedia.org/wiki/Fl%C3%A9au_de_la_dimension).**"
   ]
  },
  {
   "cell_type": "code",
   "execution_count": null,
   "metadata": {},
   "outputs": [],
   "source": []
  },
  {
   "cell_type": "markdown",
   "metadata": {},
   "source": [
    "*[Ajoutez votre commentaire ici]*"
   ]
  }
 ],
 "metadata": {
  "kernelspec": {
   "display_name": "Python 3 (ipykernel)",
   "language": "python",
   "name": "python3"
  },
  "language_info": {
   "codemirror_mode": {
    "name": "ipython",
    "version": 3
   },
   "file_extension": ".py",
   "mimetype": "text/x-python",
   "name": "python",
   "nbconvert_exporter": "python",
   "pygments_lexer": "ipython3",
   "version": "3.9.5"
  }
 },
 "nbformat": 4,
 "nbformat_minor": 4
}
