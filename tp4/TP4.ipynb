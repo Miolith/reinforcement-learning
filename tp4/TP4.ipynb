{
  "cells": [
    {
      "cell_type": "markdown",
      "id": "55339855-cf14-4697-a122-4b54a92c6f6b",
      "metadata": {
        "id": "55339855-cf14-4697-a122-4b54a92c6f6b"
      },
      "source": [
        "# TP4 : model-free RL \n",
        "\n",
        "Jusqu'à lors, nous avons étudié des cas où le modèle de la matrice de transition et de la récompense étaient modélisés : c'est le cadre du *model-based reinforcement learning*. \n",
        "Pour gérer des cas plus complexes, nous devons soulager ces hypothèses. Dans le *model-free reinforcement learning*, on regarde les expériences passées, échecs comme réussites, pour simuler le modèle sous-jacent.\n",
        "\n",
        "Ce TP propose d'implémenter plusieurs algorithmes allant dans ce sens.\n",
        "\n",
        "\n",
        "RAPPEL : 1/4 de la note finale est liée à la mise en forme : \n",
        "\n",
        "* pensez à nettoyer les outputs inutiles (installation, messages de débuggage, ...)\n",
        "* soignez vos figures : les axes sont-ils faciles à comprendre ? L'échelle est adaptée ? \n",
        "* commentez vos résultats : vous attendiez-vous à les avoir ? Est-ce étonnant ? Faites le lien avec la théorie.\n",
        "\n",
        "Ce TP reprend l'exemple d'un médecin et de ses vaccins. Vous allez comparer plusieurs stratégies et trouver celle optimale.\n",
        "Un TP se fait en groupe de 2 à 4. Aucun groupe de plus de 4 personnes. \n",
        "\n",
        "Vous allez rendre le TP dans une archive ZIP. L'archive ZIP contient ce notebook au format `ipynb`, mais aussi exporté en PDF & HTML. \n",
        "L'archive ZIP doit aussi contenir un fichier txt appelé `groupe.txt` sous le format:\n",
        "\n",
        "```\n",
        "Nom1, Prenom1, Email1, NumEtudiant1\n",
        "Nom2, Prenom2, Email2, NumEtudiant2\n",
        "Nom3, Prenom3, Email3, NumEtudiant3\n",
        "Nom4, Prenom4, Email4, NumEtudiant4\n",
        "```\n",
        "\n",
        "Un script vient extraire vos réponses : ne changez pas l'ordre des cellules et soyez sûrs que les graphes sont bien présents dans la version notebook soumise. "
      ]
    },
    {
      "cell_type": "code",
      "execution_count": 1,
      "id": "e82f9115-21f6-4931-8920-e3be1555e289",
      "metadata": {
        "colab": {
          "base_uri": "https://localhost:8080/"
        },
        "id": "e82f9115-21f6-4931-8920-e3be1555e289",
        "outputId": "12e7be22-8032-49a6-cc74-7ac553f91897"
      },
      "outputs": [
        {
          "output_type": "stream",
          "name": "stdout",
          "text": [
            "Looking in indexes: https://pypi.org/simple, https://us-python.pkg.dev/colab-wheels/public/simple/\n",
            "Requirement already satisfied: numpy in /usr/local/lib/python3.8/dist-packages (1.21.6)\n",
            "Requirement already satisfied: matplotlib in /usr/local/lib/python3.8/dist-packages (3.2.2)\n",
            "Requirement already satisfied: gym[classic_control,toy_text] in /usr/local/lib/python3.8/dist-packages (0.25.2)\n",
            "Requirement already satisfied: python-dateutil>=2.1 in /usr/local/lib/python3.8/dist-packages (from matplotlib) (2.8.2)\n",
            "Requirement already satisfied: cycler>=0.10 in /usr/local/lib/python3.8/dist-packages (from matplotlib) (0.11.0)\n",
            "Requirement already satisfied: pyparsing!=2.0.4,!=2.1.2,!=2.1.6,>=2.0.1 in /usr/local/lib/python3.8/dist-packages (from matplotlib) (3.0.9)\n",
            "Requirement already satisfied: kiwisolver>=1.0.1 in /usr/local/lib/python3.8/dist-packages (from matplotlib) (1.4.4)\n",
            "Requirement already satisfied: six>=1.5 in /usr/local/lib/python3.8/dist-packages (from python-dateutil>=2.1->matplotlib) (1.15.0)\n",
            "Requirement already satisfied: cloudpickle>=1.2.0 in /usr/local/lib/python3.8/dist-packages (from gym[classic_control,toy_text]) (1.5.0)\n",
            "Requirement already satisfied: gym-notices>=0.0.4 in /usr/local/lib/python3.8/dist-packages (from gym[classic_control,toy_text]) (0.0.8)\n",
            "Requirement already satisfied: importlib-metadata>=4.8.0 in /usr/local/lib/python3.8/dist-packages (from gym[classic_control,toy_text]) (4.13.0)\n",
            "Collecting pygame==2.1.0\n",
            "  Downloading pygame-2.1.0-cp38-cp38-manylinux_2_17_x86_64.manylinux2014_x86_64.whl (18.3 MB)\n",
            "\u001b[K     |████████████████████████████████| 18.3 MB 157 kB/s \n",
            "\u001b[?25hRequirement already satisfied: zipp>=0.5 in /usr/local/lib/python3.8/dist-packages (from importlib-metadata>=4.8.0->gym[classic_control,toy_text]) (3.11.0)\n",
            "Installing collected packages: pygame\n",
            "Successfully installed pygame-2.1.0\n"
          ]
        }
      ],
      "source": [
        "! pip install numpy matplotlib 'gym[toy_text, classic_control]'\n",
        "# Pour gérer les dépendances de PyGame: https://www.pygame.org/wiki/Compilation\n",
        "# A cause de PyGame, la version de Python doit être inférieure à 3.10 !"
      ]
    },
    {
      "cell_type": "code",
      "execution_count": 2,
      "id": "8ede7081-b933-476b-9d38-87d752a87777",
      "metadata": {
        "colab": {
          "base_uri": "https://localhost:8080/"
        },
        "id": "8ede7081-b933-476b-9d38-87d752a87777",
        "outputId": "16368e0e-1ec1-4cd2-dbca-f13a8d5906b1"
      },
      "outputs": [
        {
          "output_type": "stream",
          "name": "stdout",
          "text": [
            "bash: ../xvfb: No such file or directory\n",
            "env: DISPLAY=:1\n"
          ]
        }
      ],
      "source": [
        "%load_ext autoreload\n",
        "%autoreload 2\n",
        "import random\n",
        "#XVFB will be launched if you run on a server\n",
        "import os\n",
        "if type(os.environ.get(\"DISPLAY\")) is not str or len(os.environ.get(\"DISPLAY\"))==0:\n",
        "    !bash ../xvfb start\n",
        "    %env DISPLAY=:1\n",
        "    \n",
        "import numpy as np\n",
        "import matplotlib.pyplot as plt\n",
        "%matplotlib inline\n",
        "from IPython.display import clear_output\n",
        "import gym\n"
      ]
    },
    {
      "cell_type": "markdown",
      "id": "659ea33d-04c0-401e-af52-f972be093985",
      "metadata": {
        "id": "659ea33d-04c0-401e-af52-f972be093985"
      },
      "source": [
        "## Présentation de Gym\n",
        "Dans ce TP, nous allons le simulateur Gym par Open AI. Gym fournit une série d'environnements qui ont permis aux chercheurs de se comparer et ainsi, de faire accélérer la recherche en reinforcement learning."
      ]
    },
    {
      "cell_type": "code",
      "execution_count": 3,
      "id": "2bbfe25c-6c12-46ac-9c54-6229d5ba8bdd",
      "metadata": {
        "id": "2bbfe25c-6c12-46ac-9c54-6229d5ba8bdd"
      },
      "outputs": [],
      "source": [
        "env = gym.make(\"Taxi-v3\", render_mode=\"rgb_array\", new_step_api=True)\n",
        "\n",
        "env.reset()\n",
        "for _ in range(10):\n",
        "    env.render()\n",
        "    env.step(env.action_space.sample()) # Take a random action"
      ]
    },
    {
      "cell_type": "markdown",
      "id": "db5b0202-7a52-4648-87fa-dfccd1d6e179",
      "metadata": {
        "id": "db5b0202-7a52-4648-87fa-dfccd1d6e179"
      },
      "source": [
        "**Q1. Décrire l'environnement Taxi. En particulier, vous vous demanderez quel est l'espace d'action ? Des états ? Comment est définie la récompense ? Que contient l'output de `env.step` ?**\n",
        "\n",
        "La documentation de cet environnement est disponible ici:\n",
        "    [https://www.gymlibrary.dev/api/core/#gym.Env.step](https://www.gymlibrary.dev/api/core/#gym.Env.step)"
      ]
    },
    {
      "cell_type": "markdown",
      "id": "1208b78d-bbcb-4023-95db-4622e47bca86",
      "metadata": {
        "id": "1208b78d-bbcb-4023-95db-4622e47bca86"
      },
      "source": [
        "### Actions possibles:\n",
        "- 0: déplacement Sud\n",
        "- 1: déplacement Nord\n",
        "- 2: déplacement Est\n",
        "- 3: déplacement Ouest\n",
        "- 4: Récupérer un passager\n",
        "- 5: Déposer un passager\n",
        "\n",
        "### Récompenses\n",
        "- -1 par step sauf s'il y a une nouvelle récompense.\n",
        "\n",
        "- +20 pour déposer un passager.\n",
        "\n",
        "- -10 Récupérer et déposer illégalement un passager.\n",
        "\n",
        "### Etats possibles\n",
        "\n",
        "Il y a 500 états possibles dont 25 positions, 5 emplacements possibles pour le passager (y compris dans le taxi), et 4 destinations.\n",
        "\n",
        "400 états peuvent être atteints en un épisode. Les autres états réprésentent la situation où le passager est à leur emplacement de destination (fin de l'épisode). 4 autres états représentent le taxi et le passager à destination. Cela donne un total de 404 états discrets.\n",
        "\n",
        "Chaque état est représenté par le tuple : (`taxi_row`, `taxi_col`, `passenger_location`, `destination`)\n",
        "\n",
        "Emplacements du passager:\n",
        "\n",
        "- 0: R(ed)\n",
        "- 1: G(reen)\n",
        "- 2: Y(ellow)\n",
        "- 3: B(lue)\n",
        "- 4: dans le taxi\n",
        "\n",
        "Destinations:\n",
        "- 0: R(ed)\n",
        "- 1: G(reen)\n",
        "- 2: Y(ellow)\n",
        "- 3: B(lue)\n",
        "\n",
        "### Etape `env.step()`\n",
        "\n",
        "Cette opération renvoie 5 valeurs:\n",
        "- `observation` : état après étape\n",
        "- `r` : Récompense de l'action.\n",
        "- `done` : Si un état final est atteint.\n",
        "- `truncated` : Si une condition de troncature est satisfaite.\n",
        "- `info` : Contient des informations de diagnostic auxiliaires."
      ]
    },
    {
      "cell_type": "markdown",
      "id": "90446e1c-0cd7-423e-b887-591cd39ee473",
      "metadata": {
        "id": "90446e1c-0cd7-423e-b887-591cd39ee473"
      },
      "source": [
        "## Q-Learning"
      ]
    },
    {
      "cell_type": "markdown",
      "id": "8172a4c1-1fac-4cc0-ad4f-eaf34ff6c070",
      "metadata": {
        "id": "8172a4c1-1fac-4cc0-ad4f-eaf34ff6c070"
      },
      "source": [
        "Dans cette partie, nous allons utiliser le Q-Learning pour résoudre cette tâche."
      ]
    },
    {
      "cell_type": "code",
      "execution_count": 35,
      "id": "7cb761a5-c886-45d4-96c6-1c8b86037773",
      "metadata": {
        "id": "7cb761a5-c886-45d4-96c6-1c8b86037773"
      },
      "outputs": [],
      "source": [
        "from qlearning import QLearningAgent\n",
        "\n",
        "env = gym.make(\"Taxi-v3\", render_mode=\"rgb_array\", new_step_api=True)\n",
        "n_actions = env.action_space.n\n",
        "\n",
        "agent = QLearningAgent(\n",
        "    learning_rate=0.5,\n",
        "    epsilon=0.25,\n",
        "    gamma=0.99,\n",
        "    legal_actions=list(range(n_actions))\n",
        ")\n",
        "\n",
        "def play_and_train(env: gym.core.Env, agent: QLearningAgent, t_max=int(1e4)) -> float:\n",
        "    \"\"\"\n",
        "    This function should \n",
        "    - run a full game, actions given by agent.getAction(s)\n",
        "    - train agent using agent.update(...) whenever possible\n",
        "    - return total rewardb\n",
        "    \"\"\"\n",
        "    total_reward = 0.0\n",
        "    s, info = env.reset(return_info = True)\n",
        "    \n",
        "    if isinstance(s, np.ndarray):\n",
        "        s = tuple(s)\n",
        "\n",
        "    for t in range(t_max):\n",
        "        # TODO get agent to pick action given state s\n",
        "        a = agent.get_action(s)\n",
        "        \n",
        "        next_s, r, done, truncated, info = env.step(a)\n",
        "        \n",
        "        if isinstance(next_s, np.ndarray):\n",
        "            next_s = tuple(next_s)\n",
        "\n",
        "        # TODO train agent for state s\n",
        "        agent.update(s, a, r, next_s)\n",
        "        \n",
        "        s = next_s\n",
        "        total_reward +=r\n",
        "        if done:\n",
        "            break\n",
        "        \n",
        "    return total_reward\n",
        "\n",
        "rewards = []\n",
        "for i in range(1000):\n",
        "    rewards.append(play_and_train(env,agent))    \n",
        "    if i % 100 ==0:\n",
        "        clear_output(True)\n",
        "        print(\"mean reward\",np.mean(rewards[-100:]))\n",
        "        plt.plot(rewards)\n",
        "        plt.show()"
      ]
    },
    {
      "cell_type": "markdown",
      "id": "f88b6f0e-2615-475c-ad5b-6617222e5842",
      "metadata": {
        "id": "f88b6f0e-2615-475c-ad5b-6617222e5842"
      },
      "source": [
        "**Q2. Complétez les bouts manquants de code dans `qlearning.py` et dans la fonction `play_and_train`. Entrainez l'agent. Que se passe-t'il ? Regardez des exemples de trajectoire.**"
      ]
    },
    {
      "cell_type": "code",
      "execution_count": 9,
      "id": "36f217a9-0824-48dd-933d-5adf7e27b1c7",
      "metadata": {
        "id": "36f217a9-0824-48dd-933d-5adf7e27b1c7",
        "outputId": "2ca1a7f1-391d-4736-c7ff-141dd1a76ea9",
        "colab": {
          "base_uri": "https://localhost:8080/",
          "height": 287
        }
      },
      "outputs": [
        {
          "output_type": "execute_result",
          "data": {
            "text/plain": [
              "<matplotlib.image.AxesImage at 0x7f4482ea0b80>"
            ]
          },
          "metadata": {},
          "execution_count": 9
        },
        {
          "output_type": "display_data",
          "data": {
            "text/plain": [
              "<Figure size 432x288 with 1 Axes>"
            ],
            "image/png": "[encoded data removed]"
          },
          "metadata": {
            "needs_background": "light"
          }
        }
      ],
      "source": [
        "plt.imshow(env.render()[0])"
      ]
    },
    {
      "cell_type": "markdown",
      "id": "48490cf6-0dc5-4f03-a354-7e54058ca0a4",
      "metadata": {
        "id": "48490cf6-0dc5-4f03-a354-7e54058ca0a4"
      },
      "source": [
        "## Réduire epsilon au-fur-et-à-mesure\n",
        "\n",
        "Pour améliorer les performances, nous allons réduire $\\epsilon$ au cours du temps.\n",
        "\n",
        "La manière la plus simple consiste à réduire $\\epsilon$ à chaque épisode, par exemple en le multipliant par un nombre proche de 1 (tel que 0.99) ou lui soustraire un pettit nombre. Vous pouvez, bien sûr, envisager d'autres stratégies !\n",
        "\n",
        "**Q3. Améliorez l'algorithme dans `q_learning_eps_scheduling.py` de sorte à avoir une récompense positive**"
      ]
    },
    {
      "cell_type": "code",
      "execution_count": 5,
      "id": "d3dd6baf-a206-47bd-b978-f3e9cd59fde6",
      "metadata": {
        "tags": [],
        "colab": {
          "base_uri": "https://localhost:8080/",
          "height": 283
        },
        "id": "d3dd6baf-a206-47bd-b978-f3e9cd59fde6",
        "outputId": "0f5954bb-4622-47aa-f879-62c34d5fe975"
      },
      "outputs": [
        {
          "output_type": "stream",
          "name": "stdout",
          "text": [
            "mean reward 7.68\n"
          ]
        },
        {
          "output_type": "display_data",
          "data": {
            "text/plain": [
              "<Figure size 432x288 with 1 Axes>"
            ],
            "image/png": "[encoded data removed]"
          },
          "metadata": {
            "needs_background": "light"
          }
        }
      ],
      "source": [
        "from qlearning_eps_scheduling import QLearningAgentEpsScheduling\n",
        "\n",
        "agent = QLearningAgentEpsScheduling(\n",
        "    learning_rate=0.5,\n",
        "    epsilon=0.25,\n",
        "    gamma=0.99,\n",
        "    legal_actions=list(range(n_actions))\n",
        ")\n",
        "\n",
        "rewards = []\n",
        "for i in range(1000):\n",
        "    rewards.append(play_and_train(env,agent))    \n",
        "    if i %100 ==0:\n",
        "        clear_output(True)\n",
        "        print(\"mean reward\",np.mean(rewards[-100:]))\n",
        "        plt.plot(rewards)\n",
        "        plt.show()"
      ]
    },
    {
      "cell_type": "markdown",
      "id": "fe545baf-9a53-47cc-8d47-18a886b933f4",
      "metadata": {
        "id": "fe545baf-9a53-47cc-8d47-18a886b933f4"
      },
      "source": [
        "*[Ajoutez votre réponse ici]*"
      ]
    },
    {
      "cell_type": "markdown",
      "id": "e7106d2e-55c6-4ffa-a732-a32e12159dce",
      "metadata": {
        "id": "e7106d2e-55c6-4ffa-a732-a32e12159dce"
      },
      "source": [
        "**Q4. Produisez quelques vidéos des trajectoires obtenus. Rassemblez des cas de réussite et des cas d'échecs**"
      ]
    },
    {
      "cell_type": "markdown",
      "id": "d6cbe8e3-1790-441d-8b43-57f18df41e4d",
      "metadata": {
        "id": "d6cbe8e3-1790-441d-8b43-57f18df41e4d"
      },
      "source": [
        "## Espace d'action continu\n",
        "\n",
        "Nous allons maintenant passer à un environnement plus difficile : le pendule inversé. C'est un grand classique des problèmes de contrôle !\n",
        "\n",
        "Puisque l'environnement a un espace d'actions continu, nous allons discrétiser cet espace pour revenir aux cas précédemment étudiés.\n",
        "La solution la plus simple pour cela consiste à diviser l'espace en sections égales. Mais comment choisir le nombre de sections ?"
      ]
    },
    {
      "cell_type": "code",
      "execution_count": 25,
      "id": "4570b6ee-297a-4136-ab66-59adb3f2dab9",
      "metadata": {
        "colab": {
          "base_uri": "https://localhost:8080/",
          "height": 305
        },
        "id": "4570b6ee-297a-4136-ab66-59adb3f2dab9",
        "outputId": "5790712d-d600-4733-f3f2-86b6ee935ab6"
      },
      "outputs": [
        {
          "output_type": "stream",
          "name": "stdout",
          "text": [
            "first state:  [-0.03415465 -0.01252667 -0.02980026  0.0072395 ]\n"
          ]
        },
        {
          "output_type": "execute_result",
          "data": {
            "text/plain": [
              "<matplotlib.image.AxesImage at 0x7f447ecf4280>"
            ]
          },
          "metadata": {},
          "execution_count": 25
        },
        {
          "output_type": "display_data",
          "data": {
            "text/plain": [
              "<Figure size 432x288 with 1 Axes>"
            ],
            "image/png": "[encoded data removed]"
          },
          "metadata": {
            "needs_background": "light"
          }
        }
      ],
      "source": [
        "env = gym.make(\"CartPole-v1\", render_mode=\"rgb_array\", new_step_api=True)\n",
        "n_actions = env.action_space.n\n",
        "\n",
        "print(\"first state: \", env.reset())\n",
        "plt.imshow(env.render()[0])"
      ]
    },
    {
      "cell_type": "markdown",
      "id": "fc5417ec-eb7e-48fb-aa0c-6bbc8fd5b436",
      "metadata": {
        "id": "fc5417ec-eb7e-48fb-aa0c-6bbc8fd5b436"
      },
      "source": [
        "**Q5. Décrivez cet environnement à l'aide de la documentation de Gym en reprenant la Q1.**"
      ]
    },
    {
      "cell_type": "markdown",
      "id": "2d67baed-4bfc-4a59-a76a-dbbc19cbbd2c",
      "metadata": {
        "id": "2d67baed-4bfc-4a59-a76a-dbbc19cbbd2c"
      },
      "source": [
        "### Action\n",
        "L'action peut prendre 2 valeurs représentant la direction dans laquelle on pousse le véhicule.\n",
        "\n",
        "- 0 : Pousser le véhicule à gauche\n",
        "\n",
        "- 1 : Pousser le véhicule à droite\n",
        "\n",
        "### Récompenses\n",
        "\n",
        "- +1 A chaque étape\n",
        "- Seuil maximal de 475\n",
        "\n",
        "### États\n",
        "\n",
        "L'état est un tuple de 4 valeurs :\n",
        "\n",
        "- Position du véhicule\n",
        "- Vélocité du véhicule\n",
        "- Angle du poteau\n",
        "- Vélocité angulaire du poteau\n",
        "\n",
        "\n"
      ]
    },
    {
      "cell_type": "markdown",
      "id": "3514cb53-9981-4fd5-8f7d-652de722c0a3",
      "metadata": {
        "id": "3514cb53-9981-4fd5-8f7d-652de722c0a3"
      },
      "source": [
        "Pour mener à bien notre discrétisation de l'espace des actions, nous allons estimer la distribution des observations."
      ]
    },
    {
      "cell_type": "markdown",
      "id": "8cdee467-d593-4be0-85b5-20c11b2725d0",
      "metadata": {
        "id": "8cdee467-d593-4be0-85b5-20c11b2725d0"
      },
      "source": [
        "**Q6. Simulez 1000 épisodes et regardez la distribution des états à l'aide d'un histogramme. Quel paramètre vous paraît optimal pour choisir le nombre de `bins` ?**"
      ]
    },
    {
      "cell_type": "code",
      "execution_count": 26,
      "id": "89ac1824-18e8-419f-9e47-cea3926512bd",
      "metadata": {
        "colab": {
          "base_uri": "https://localhost:8080/",
          "height": 607
        },
        "id": "89ac1824-18e8-419f-9e47-cea3926512bd",
        "outputId": "d115db04-a37f-4ad1-8b52-3713002bdac3"
      },
      "outputs": [
        {
          "output_type": "display_data",
          "data": {
            "text/plain": [
              "<Figure size 720x720 with 4 Axes>"
            ],
            "image/png": "[encoded data removed]"
          },
          "metadata": {
            "needs_background": "light"
          }
        }
      ],
      "source": [
        "env.action_space.seed(42)\n",
        "\n",
        "observation, info = env.reset(seed=42, return_info=True)\n",
        "obs_list = []\n",
        "\n",
        "for _ in range(1000):\n",
        "    observation, reward, terminated, truncated, info = env.step(env.action_space.sample())\n",
        "\n",
        "    if terminated or truncated:\n",
        "        observation, info = env.reset(return_info=True)\n",
        "    obs_list.append(observation)\n",
        "\n",
        "obs_list = np.array(obs_list)\n",
        "\n",
        "fig, axs = plt.subplots(2, 2, figsize=(10,10))\n",
        "axs[0,0].hist(obs_list[:,0], bins=50)\n",
        "axs[0,0].set_title(\"Cart Position\")\n",
        "\n",
        "axs[0,1].hist(obs_list[:,1], bins=50)\n",
        "axs[0,1].set_title(\"Cart Velocity\")\n",
        "\n",
        "axs[1,0].hist(obs_list[:,2], bins=50)\n",
        "axs[1,0].set_title(\"Pole Angle\")\n",
        "\n",
        "axs[1,1].hist(obs_list[:,3], bins=50)\n",
        "axs[1,1].set_title(\"Pole Angular Velocity\")\n",
        "\n",
        "plt.show()"
      ]
    },
    {
      "cell_type": "markdown",
      "id": "0a231538-b6a3-4420-9b73-965d958c8d74",
      "metadata": {
        "id": "0a231538-b6a3-4420-9b73-965d958c8d74"
      },
      "source": [
        "*On observe une distribution Binomiale des différents paramètres*"
      ]
    },
    {
      "cell_type": "markdown",
      "id": "6ff90a63-5b02-4055-bdca-7a6a9c8eb1aa",
      "metadata": {
        "id": "6ff90a63-5b02-4055-bdca-7a6a9c8eb1aa"
      },
      "source": [
        "## Discrétiser l'environnement"
      ]
    },
    {
      "cell_type": "code",
      "execution_count": 31,
      "id": "eef258ed-07aa-452a-94f8-dcce941915a9",
      "metadata": {
        "tags": [],
        "colab": {
          "base_uri": "https://localhost:8080/"
        },
        "id": "eef258ed-07aa-452a-94f8-dcce941915a9",
        "outputId": "1c4a0750-2875-4b7e-c798-f535aa9fda5c"
      },
      "outputs": [
        {
          "output_type": "execute_result",
          "data": {
            "text/plain": [
              "array([0, 0, 3, 1])"
            ]
          },
          "metadata": {},
          "execution_count": 31
        }
      ],
      "source": [
        "from gym.core import ObservationWrapper\n",
        "\n",
        "\n",
        "class Binarizer(ObservationWrapper):\n",
        "    def _discretize_range(self, lower_bound, upper_bound, num_bins):\n",
        "        return np.linspace(lower_bound, upper_bound, num_bins + 1)[1:-1]\n",
        "\n",
        "    def observation(self, state: np.ndarray) -> np.ndarray:\n",
        "        \"\"\"\n",
        "        (float, float, float, float) => (int, int, int, int)\n",
        "        \"\"\"\n",
        "        # TODO binarize each dimension of the state\n",
        "        # Discretize the continuous state space for each of the 4 features.\n",
        "                \n",
        "        return np.array([\n",
        "            # Cart position.\n",
        "            np.digitize(state[0], self._discretize_range(-2.4, 2.4, 2)),\n",
        "\n",
        "            # Cart velocity.\n",
        "            np.digitize(state[1], self._discretize_range(-3.0, 3.0, 2)),\n",
        "\n",
        "            # Pole angle.\n",
        "            np.digitize(state[2], self._discretize_range(-0.5, 0.5, 6)),\n",
        "\n",
        "            # Tip velocity.\n",
        "            np.digitize(state[3], self._discretize_range(-2.0, 2.0, 3))\n",
        "        ])\n",
        "    \n",
        "bi_env = Binarizer(gym.make(\"CartPole-v0\", new_step_api=True))\n",
        "bi_env.reset()"
      ]
    },
    {
      "cell_type": "markdown",
      "id": "211e08b3-ca10-4377-9d86-2571439f5cbb",
      "metadata": {
        "id": "211e08b3-ca10-4377-9d86-2571439f5cbb"
      },
      "source": [
        "**Q7. Complétez le code ci-dessus pour binariser l'environnement. Regardez la nouvelle distribution des états. Qu'en pensez-vous ?**"
      ]
    },
    {
      "cell_type": "code",
      "execution_count": 32,
      "id": "fca4be48-f1d8-4eab-a271-957c8b45d4db",
      "metadata": {
        "id": "fca4be48-f1d8-4eab-a271-957c8b45d4db",
        "outputId": "beba0ffe-2fba-4616-9e6a-cab0c33ddd74",
        "colab": {
          "base_uri": "https://localhost:8080/",
          "height": 607
        }
      },
      "outputs": [
        {
          "output_type": "display_data",
          "data": {
            "text/plain": [
              "<Figure size 720x720 with 4 Axes>"
            ],
            "image/png": "[encoded data removed]"
          },
          "metadata": {
            "needs_background": "light"
          }
        }
      ],
      "source": [
        "bi_env.action_space.seed(42)\n",
        "\n",
        "observation, info = bi_env.reset(seed=42, return_info=True)\n",
        "obs_list = []\n",
        "\n",
        "for _ in range(1000):\n",
        "    observation, reward, terminated, truncated, info = bi_env.step(env.action_space.sample())\n",
        "\n",
        "    if terminated or truncated:\n",
        "        observation, info = bi_env.reset(return_info=True)\n",
        "    obs_list.append(observation)\n",
        "\n",
        "obs_list = np.array(obs_list)\n",
        "\n",
        "fig, axs = plt.subplots(2, 2, figsize=(10,10))\n",
        "axs[0,0].hist(obs_list[:,0], bins=2)\n",
        "axs[0,0].set_title(\"Cart Position\")\n",
        "\n",
        "axs[0,1].hist(obs_list[:,1], bins=2)\n",
        "axs[0,1].set_title(\"Cart Velocity\")\n",
        "\n",
        "axs[1,0].hist(obs_list[:,2], bins=6)\n",
        "axs[1,0].set_title(\"Pole Angle\")\n",
        "\n",
        "axs[1,1].hist(obs_list[:,3], bins=3)\n",
        "axs[1,1].set_title(\"Pole Angular Velocity\")\n",
        "\n",
        "plt.show()"
      ]
    },
    {
      "cell_type": "markdown",
      "id": "598a8ca4-d6b4-407c-8cfc-c870732fbb4a",
      "metadata": {
        "id": "598a8ca4-d6b4-407c-8cfc-c870732fbb4a"
      },
      "source": [
        "*[Ajoutez votre réponse ici]*"
      ]
    },
    {
      "cell_type": "markdown",
      "id": "02d1b63f-465a-4006-96c3-35d8e921c25e",
      "metadata": {
        "id": "02d1b63f-465a-4006-96c3-35d8e921c25e"
      },
      "source": [
        "### Apprentissage sur l'environnement discretisé"
      ]
    },
    {
      "cell_type": "markdown",
      "id": "d9944bf8-830c-4645-9df6-3fd471360b2e",
      "metadata": {
        "id": "d9944bf8-830c-4645-9df6-3fd471360b2e"
      },
      "source": [
        "**Q8. Reprenez votre agent pour résoudre cette tâche. Tracez la récompense et observez quelques trajectoires d'échecs et de réussites à l'aide de vidéos**"
      ]
    },
    {
      "cell_type": "code",
      "execution_count": 37,
      "id": "0da18223-f328-48f3-9643-e1c9dba17ba8",
      "metadata": {
        "id": "0da18223-f328-48f3-9643-e1c9dba17ba8",
        "outputId": "7345d298-df4c-4926-fe90-1fcc37d67c0d",
        "colab": {
          "base_uri": "https://localhost:8080/",
          "height": 283
        }
      },
      "outputs": [
        {
          "output_type": "stream",
          "name": "stdout",
          "text": [
            "mean reward 19.25\n"
          ]
        },
        {
          "output_type": "display_data",
          "data": {
            "text/plain": [
              "<Figure size 432x288 with 1 Axes>"
            ],
            "image/png": "[encoded data removed]"
          },
          "metadata": {
            "needs_background": "light"
          }
        }
      ],
      "source": [
        "from qlearning_eps_scheduling import QLearningAgentEpsScheduling\n",
        "\n",
        "n_actions = 2\n",
        "\n",
        "agent = QLearningAgentEpsScheduling(\n",
        "    learning_rate=0.5,\n",
        "    epsilon=0.25,\n",
        "    gamma=0.99,\n",
        "    legal_actions=list(range(n_actions))\n",
        ")\n",
        "\n",
        "rewards = []\n",
        "for i in range(1000):\n",
        "    rewards.append(play_and_train(bi_env,agent))    \n",
        "    if i %100 ==0:\n",
        "        clear_output(True)\n",
        "        print(\"mean reward\",np.mean(rewards[-100:]))\n",
        "        plt.plot(rewards)\n",
        "        plt.show()"
      ]
    },
    {
      "cell_type": "markdown",
      "id": "d0627c3b-2f9b-434b-9f14-3e30615749e5",
      "metadata": {
        "id": "d0627c3b-2f9b-434b-9f14-3e30615749e5"
      },
      "source": [
        "*[Ajoutez votre réponse ici]*"
      ]
    },
    {
      "cell_type": "markdown",
      "id": "56af0361-953c-4a03-8e7c-49840c2c9426",
      "metadata": {
        "id": "56af0361-953c-4a03-8e7c-49840c2c9426"
      },
      "source": [
        "## 4. Experience replay \n",
        "\n",
        "Les algorithmes *off-policy* peuvent s'entraîner grâce à des trajectoires anciennement obtenues. Tirons parti de cette propriété pour \n",
        "améliorer l'efficacité de nos algorithmes et les permettre de converger plus rapidement.\n",
        "\n",
        "L'idée générale est de collecter les tuplets `<s,a,r,s'>` dans un *buffer*, puis de mettre à jour la fonction Q sur l'ensemble de ces tuplets.\n",
        "Plus en détails, voici l'algorithme à suivre\n",
        "\n",
        "#### S'entraîner avec un *experience replay*\n",
        "1. Echantillonner un tuplet `<s,a,r,s'>`.\n",
        "2. Stocker ce tuplet dans un buffer FIFO : si le buffer est plein, on supprimer les données arrivées en premier.\n",
        "3. Choisir aléatoirement K tuplets du buffer et mettre à jour la fonction Q sur ces tuplets.\n",
        "\n",
        "**Q9. Implémentez un tel buffer**"
      ]
    },
    {
      "cell_type": "code",
      "execution_count": 70,
      "id": "ef979349-b4eb-4d4a-9a5b-4575a0e04d81",
      "metadata": {
        "tags": [],
        "id": "ef979349-b4eb-4d4a-9a5b-4575a0e04d81",
        "outputId": "5b764970-bd05-40e4-fc6d-ba18272259d2",
        "colab": {
          "base_uri": "https://localhost:8080/"
        }
      },
      "outputs": [
        {
          "output_type": "stream",
          "name": "stdout",
          "text": [
            "Success!\n"
          ]
        }
      ],
      "source": [
        "class ReplayBuffer(object):\n",
        "    def __init__(self, size):\n",
        "        \"\"\"\n",
        "        Create Replay buffer.\n",
        "        Parameters\n",
        "        ----------\n",
        "        size: int\n",
        "            Max number of transitions to store in the buffer. When the buffer\n",
        "            overflows the old memories are dropped.\n",
        "            \n",
        "        Note: for this assignment you can pick any data structure you want.\n",
        "              If you want to keep it simple, you can store a list of tuples of (s, a, r, s') in self._storage\n",
        "              However you may find out there are faster and/or more memory-efficient ways to do so.\n",
        "        \"\"\"\n",
        "        self.size = size\n",
        "        self._storage = []\n",
        "    \n",
        "    def add(self, *element):\n",
        "        self._storage.append(element)\n",
        "\n",
        "        while len(self._storage) > self.size:\n",
        "            self._storage.pop(0)\n",
        "\n",
        "\n",
        "    def sample(self, k: int):\n",
        "        #if len(self._storage) == 1:\n",
        "        #   return self._storage[0]\n",
        "        if k > len(self._storage):\n",
        "            return [random.sample(self._storage, 1)[0] for _ in range(k)]\n",
        "        return random.sample(self._storage, k)\n",
        "\n",
        "# Some tests to make sure your buffer works right\n",
        "\n",
        "replay = ReplayBuffer(2)\n",
        "obj1 = tuple(range(5))\n",
        "obj2 = tuple(range(5, 10))\n",
        "replay.add(*obj1)\n",
        "#assert replay.sample(1) == obj1, \"If there's just one object in buffer, it must be retrieved by buf.sample(1)\"\n",
        "replay.add(*obj2)\n",
        "assert len(replay._storage) == 2, \"Please make sure __len__ methods works as intended.\"\n",
        "replay.add(*obj2)\n",
        "assert len(replay._storage) == 2, \"When buffer is at max capacity, replace objects instead of adding new ones.\"\n",
        "assert tuple(np.unique(replay.sample(100))) == obj2\n",
        "replay.add(*obj1)\n",
        "assert max(len(np.unique(a)) for a in replay.sample(100)) == 5\n",
        "replay.add(*obj1)\n",
        "assert tuple(np.unique(replay.sample(100))) == obj1\n",
        "print(\"Success!\")"
      ]
    },
    {
      "cell_type": "markdown",
      "id": "ce711801-4660-44f1-8189-cd91187bf5f0",
      "metadata": {
        "id": "ce711801-4660-44f1-8189-cd91187bf5f0"
      },
      "source": [
        "Maintenant utilisons ce replay buffer pour améliorer les performances d'entraînement.\n",
        "\n",
        "**Q10. Entraînez un agent avec le replay buffer. Comparez l'évolution de la récompense sur l'environnement Taxi avec un algorithme n'utilisant pas le replay buffer.**\n",
        "\n",
        "Pour rendre l'affichage plus visible, vous filterez la récompense avec un filtre de votre choix."
      ]
    },
    {
      "cell_type": "code",
      "execution_count": 71,
      "id": "7d34cece-905d-4597-ae71-903c68f11296",
      "metadata": {
        "tags": [],
        "id": "7d34cece-905d-4597-ae71-903c68f11296",
        "outputId": "cc115aad-227b-4b72-894f-4374a62d67d3",
        "colab": {
          "base_uri": "https://localhost:8080/",
          "height": 338
        }
      },
      "outputs": [
        {
          "output_type": "stream",
          "name": "stdout",
          "text": [
            "mean reward 22.54\n"
          ]
        },
        {
          "output_type": "display_data",
          "data": {
            "text/plain": [
              "<Figure size 720x360 with 2 Axes>"
            ],
            "image/png": "[encoded data removed]"
          },
          "metadata": {
            "needs_background": "light"
          }
        }
      ],
      "source": [
        "agent_baseline = QLearningAgentEpsScheduling(\n",
        "    learning_rate=0.5,\n",
        "    epsilon=0.25,\n",
        "    gamma=0.99,\n",
        "    legal_actions=list(range(n_actions))\n",
        ")\n",
        "\n",
        "agent_replay = QLearningAgentEpsScheduling(\n",
        "    learning_rate=0.5,\n",
        "    epsilon=0.25,\n",
        "    gamma=0.99,\n",
        "    legal_actions=list(range(n_actions))\n",
        ")\n",
        "\n",
        "replay = ReplayBuffer(10000)\n",
        "\n",
        "def play_and_train(\n",
        "    env: gym.core.Env, \n",
        "    agent: QLearningAgent, \n",
        "    t_max: int = int(1e4),\n",
        "    batch_size: int = 32\n",
        ") -> float:\n",
        "    \"\"\"\n",
        "    This function should \n",
        "    - run a full game, actions given by agent.getAction(s)\n",
        "    - train agent using agent.update(...) whenever possible\n",
        "    - return total rewardb\n",
        "    \"\"\"\n",
        "    total_reward = 0.0\n",
        "    s, info = env.reset(return_info=True)\n",
        "    if isinstance(s, np.ndarray):\n",
        "        s = tuple(s)\n",
        "\n",
        "    for t in range(t_max):\n",
        "        # TODO get agent to pick action given state s\n",
        "        a = agent.get_action(s)\n",
        "        \n",
        "        next_s, r, done, truncated, info = env.step(a)\n",
        "        \n",
        "        # TODO train agent for state s\n",
        "        # ...\n",
        "        if isinstance(next_s, np.ndarray):\n",
        "            next_s = tuple(next_s)\n",
        "\n",
        "        agent.update(s, a, r, next_s)\n",
        "\n",
        "        if replay is not None:\n",
        "            # TODO update this part\n",
        "            replay.add(*(s, a, r, next_s))\n",
        "            for s_, a_, r_, sp_ in replay.sample(batch_size):\n",
        "                agent.update(s_, a_, r_, sp_)\n",
        "        \n",
        "        s = next_s\n",
        "        total_reward +=r\n",
        "        if done:\n",
        "            break\n",
        "        \n",
        "    return total_reward\n",
        "\n",
        "rewards_baseline = []\n",
        "rewards_replay = []\n",
        "\n",
        "replay_temp = replay\n",
        "\n",
        "for i in range(1000):\n",
        "    replay = None\n",
        "    rewards_baseline.append(play_and_train(bi_env,agent_baseline))\n",
        "    replay = replay_temp\n",
        "    rewards_replay.append(play_and_train(bi_env,agent_replay))    \n",
        "    if i % 100 == 0:\n",
        "        clear_output(True)\n",
        "        figs, axs = plt.subplots(1,2, figsize=(10,5))\n",
        "        print(\"mean reward\",np.mean(rewards[-100:]))\n",
        "        axs[0].plot(rewards_baseline)\n",
        "        axs[1].plot(rewards_replay)\n",
        "        plt.show()"
      ]
    },
    {
      "cell_type": "markdown",
      "id": "63da335a-8376-44c1-8ac4-da691cad9b6b",
      "metadata": {
        "id": "63da335a-8376-44c1-8ac4-da691cad9b6b"
      },
      "source": [
        "*[Ajoutez votre réponse ici]*"
      ]
    }
  ],
  "metadata": {
    "kernelspec": {
      "display_name": "Python 3 (ipykernel)",
      "language": "python",
      "name": "python3"
    },
    "language_info": {
      "codemirror_mode": {
        "name": "ipython",
        "version": 3
      },
      "file_extension": ".py",
      "mimetype": "text/x-python",
      "name": "python",
      "nbconvert_exporter": "python",
      "pygments_lexer": "ipython3",
      "version": "3.11.0"
    },
    "colab": {
      "provenance": []
    },
    "gpuClass": "standard"
  },
  "nbformat": 4,
  "nbformat_minor": 5
}